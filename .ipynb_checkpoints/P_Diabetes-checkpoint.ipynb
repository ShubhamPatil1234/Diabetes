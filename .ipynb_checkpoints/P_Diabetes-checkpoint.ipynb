{
 "cells": [
  {
   "cell_type": "markdown",
   "id": "f733d9ef",
   "metadata": {},
   "source": [
    "# Diabetes_logistics_regression"
   ]
  },
  {
   "cell_type": "markdown",
   "id": "bfa4606c",
   "metadata": {},
   "source": [
    "# import libraries"
   ]
  },
  {
   "cell_type": "code",
   "execution_count": 85,
   "id": "e213170f",
   "metadata": {},
   "outputs": [],
   "source": [
    "import numpy as np\n",
    "import pandas as pd\n",
    "\n",
    "from sklearn.linear_model import LogisticRegression\n",
    "from sklearn.model_selection import train_test_split\n",
    "\n",
    "from sklearn.metrics import confusion_matrix, classification_report, accuracy_score\n",
    "from sklearn.metrics import precision_score, recall_score, f1_score\n",
    "from sklearn.metrics import plot_confusion_matrix\n",
    "from sklearn.metrics import roc_curve,roc_auc_score, auc\n",
    "\n",
    "import matplotlib.pyplot as plt\n",
    "import seaborn as sns\n",
    "\n",
    "import warnings\n",
    "warnings.filterwarnings(\"ignore\")"
   ]
  },
  {
   "cell_type": "markdown",
   "id": "0277c195",
   "metadata": {},
   "source": [
    "# Data gathering"
   ]
  },
  {
   "cell_type": "code",
   "execution_count": 2,
   "id": "d87ce17e",
   "metadata": {},
   "outputs": [
    {
     "data": {
      "text/html": [
       "<div>\n",
       "<style scoped>\n",
       "    .dataframe tbody tr th:only-of-type {\n",
       "        vertical-align: middle;\n",
       "    }\n",
       "\n",
       "    .dataframe tbody tr th {\n",
       "        vertical-align: top;\n",
       "    }\n",
       "\n",
       "    .dataframe thead th {\n",
       "        text-align: right;\n",
       "    }\n",
       "</style>\n",
       "<table border=\"1\" class=\"dataframe\">\n",
       "  <thead>\n",
       "    <tr style=\"text-align: right;\">\n",
       "      <th></th>\n",
       "      <th>Glucose</th>\n",
       "      <th>BloodPressure</th>\n",
       "      <th>SkinThickness</th>\n",
       "      <th>Insulin</th>\n",
       "      <th>BMI</th>\n",
       "      <th>DiabetesPedigreeFunction</th>\n",
       "      <th>Age</th>\n",
       "      <th>Outcome</th>\n",
       "    </tr>\n",
       "  </thead>\n",
       "  <tbody>\n",
       "    <tr>\n",
       "      <th>0</th>\n",
       "      <td>148</td>\n",
       "      <td>50</td>\n",
       "      <td>35</td>\n",
       "      <td>0</td>\n",
       "      <td>33.6</td>\n",
       "      <td>0.627</td>\n",
       "      <td>50</td>\n",
       "      <td>1</td>\n",
       "    </tr>\n",
       "    <tr>\n",
       "      <th>1</th>\n",
       "      <td>85</td>\n",
       "      <td>66</td>\n",
       "      <td>29</td>\n",
       "      <td>0</td>\n",
       "      <td>26.6</td>\n",
       "      <td>0.351</td>\n",
       "      <td>31</td>\n",
       "      <td>0</td>\n",
       "    </tr>\n",
       "    <tr>\n",
       "      <th>2</th>\n",
       "      <td>183</td>\n",
       "      <td>64</td>\n",
       "      <td>0</td>\n",
       "      <td>0</td>\n",
       "      <td>23.3</td>\n",
       "      <td>0.672</td>\n",
       "      <td>52</td>\n",
       "      <td>1</td>\n",
       "    </tr>\n",
       "    <tr>\n",
       "      <th>3</th>\n",
       "      <td>150</td>\n",
       "      <td>66</td>\n",
       "      <td>23</td>\n",
       "      <td>94</td>\n",
       "      <td>28.1</td>\n",
       "      <td>0.167</td>\n",
       "      <td>21</td>\n",
       "      <td>0</td>\n",
       "    </tr>\n",
       "    <tr>\n",
       "      <th>4</th>\n",
       "      <td>150</td>\n",
       "      <td>40</td>\n",
       "      <td>35</td>\n",
       "      <td>168</td>\n",
       "      <td>43.1</td>\n",
       "      <td>2.288</td>\n",
       "      <td>33</td>\n",
       "      <td>1</td>\n",
       "    </tr>\n",
       "    <tr>\n",
       "      <th>...</th>\n",
       "      <td>...</td>\n",
       "      <td>...</td>\n",
       "      <td>...</td>\n",
       "      <td>...</td>\n",
       "      <td>...</td>\n",
       "      <td>...</td>\n",
       "      <td>...</td>\n",
       "      <td>...</td>\n",
       "    </tr>\n",
       "    <tr>\n",
       "      <th>763</th>\n",
       "      <td>101</td>\n",
       "      <td>76</td>\n",
       "      <td>48</td>\n",
       "      <td>180</td>\n",
       "      <td>32.9</td>\n",
       "      <td>0.171</td>\n",
       "      <td>63</td>\n",
       "      <td>0</td>\n",
       "    </tr>\n",
       "    <tr>\n",
       "      <th>764</th>\n",
       "      <td>122</td>\n",
       "      <td>70</td>\n",
       "      <td>27</td>\n",
       "      <td>0</td>\n",
       "      <td>36.8</td>\n",
       "      <td>0.340</td>\n",
       "      <td>27</td>\n",
       "      <td>0</td>\n",
       "    </tr>\n",
       "    <tr>\n",
       "      <th>765</th>\n",
       "      <td>121</td>\n",
       "      <td>72</td>\n",
       "      <td>23</td>\n",
       "      <td>112</td>\n",
       "      <td>26.2</td>\n",
       "      <td>0.245</td>\n",
       "      <td>30</td>\n",
       "      <td>0</td>\n",
       "    </tr>\n",
       "    <tr>\n",
       "      <th>766</th>\n",
       "      <td>126</td>\n",
       "      <td>60</td>\n",
       "      <td>0</td>\n",
       "      <td>0</td>\n",
       "      <td>30.1</td>\n",
       "      <td>0.349</td>\n",
       "      <td>47</td>\n",
       "      <td>1</td>\n",
       "    </tr>\n",
       "    <tr>\n",
       "      <th>767</th>\n",
       "      <td>93</td>\n",
       "      <td>70</td>\n",
       "      <td>31</td>\n",
       "      <td>0</td>\n",
       "      <td>30.4</td>\n",
       "      <td>0.315</td>\n",
       "      <td>23</td>\n",
       "      <td>0</td>\n",
       "    </tr>\n",
       "  </tbody>\n",
       "</table>\n",
       "<p>768 rows × 8 columns</p>\n",
       "</div>"
      ],
      "text/plain": [
       "     Glucose  BloodPressure  SkinThickness  Insulin   BMI  \\\n",
       "0        148             50             35        0  33.6   \n",
       "1         85             66             29        0  26.6   \n",
       "2        183             64              0        0  23.3   \n",
       "3        150             66             23       94  28.1   \n",
       "4        150             40             35      168  43.1   \n",
       "..       ...            ...            ...      ...   ...   \n",
       "763      101             76             48      180  32.9   \n",
       "764      122             70             27        0  36.8   \n",
       "765      121             72             23      112  26.2   \n",
       "766      126             60              0        0  30.1   \n",
       "767       93             70             31        0  30.4   \n",
       "\n",
       "     DiabetesPedigreeFunction  Age  Outcome  \n",
       "0                       0.627   50        1  \n",
       "1                       0.351   31        0  \n",
       "2                       0.672   52        1  \n",
       "3                       0.167   21        0  \n",
       "4                       2.288   33        1  \n",
       "..                        ...  ...      ...  \n",
       "763                     0.171   63        0  \n",
       "764                     0.340   27        0  \n",
       "765                     0.245   30        0  \n",
       "766                     0.349   47        1  \n",
       "767                     0.315   23        0  \n",
       "\n",
       "[768 rows x 8 columns]"
      ]
     },
     "execution_count": 2,
     "metadata": {},
     "output_type": "execute_result"
    }
   ],
   "source": [
    "df = pd.read_csv(\"diabetes.csv\")\n",
    "df"
   ]
  },
  {
   "cell_type": "code",
   "execution_count": 3,
   "id": "2a83c3b9",
   "metadata": {},
   "outputs": [
    {
     "name": "stdout",
     "output_type": "stream",
     "text": [
      "<class 'pandas.core.frame.DataFrame'>\n",
      "RangeIndex: 768 entries, 0 to 767\n",
      "Data columns (total 8 columns):\n",
      " #   Column                    Non-Null Count  Dtype  \n",
      "---  ------                    --------------  -----  \n",
      " 0   Glucose                   768 non-null    int64  \n",
      " 1   BloodPressure             768 non-null    int64  \n",
      " 2   SkinThickness             768 non-null    int64  \n",
      " 3   Insulin                   768 non-null    int64  \n",
      " 4   BMI                       768 non-null    float64\n",
      " 5   DiabetesPedigreeFunction  768 non-null    float64\n",
      " 6   Age                       768 non-null    int64  \n",
      " 7   Outcome                   768 non-null    int64  \n",
      "dtypes: float64(2), int64(6)\n",
      "memory usage: 48.1 KB\n"
     ]
    }
   ],
   "source": [
    "df.info()"
   ]
  },
  {
   "cell_type": "code",
   "execution_count": 4,
   "id": "08436f24",
   "metadata": {},
   "outputs": [
    {
     "data": {
      "text/plain": [
       "Glucose                     0\n",
       "BloodPressure               0\n",
       "SkinThickness               0\n",
       "Insulin                     0\n",
       "BMI                         0\n",
       "DiabetesPedigreeFunction    0\n",
       "Age                         0\n",
       "Outcome                     0\n",
       "dtype: int64"
      ]
     },
     "execution_count": 4,
     "metadata": {},
     "output_type": "execute_result"
    }
   ],
   "source": [
    "df.isna().sum()"
   ]
  },
  {
   "cell_type": "code",
   "execution_count": 5,
   "id": "b356f6ac",
   "metadata": {},
   "outputs": [
    {
     "data": {
      "text/html": [
       "<div>\n",
       "<style scoped>\n",
       "    .dataframe tbody tr th:only-of-type {\n",
       "        vertical-align: middle;\n",
       "    }\n",
       "\n",
       "    .dataframe tbody tr th {\n",
       "        vertical-align: top;\n",
       "    }\n",
       "\n",
       "    .dataframe thead th {\n",
       "        text-align: right;\n",
       "    }\n",
       "</style>\n",
       "<table border=\"1\" class=\"dataframe\">\n",
       "  <thead>\n",
       "    <tr style=\"text-align: right;\">\n",
       "      <th></th>\n",
       "      <th>Glucose</th>\n",
       "      <th>BloodPressure</th>\n",
       "      <th>SkinThickness</th>\n",
       "      <th>Insulin</th>\n",
       "      <th>BMI</th>\n",
       "      <th>DiabetesPedigreeFunction</th>\n",
       "      <th>Age</th>\n",
       "      <th>Outcome</th>\n",
       "    </tr>\n",
       "  </thead>\n",
       "  <tbody>\n",
       "    <tr>\n",
       "      <th>count</th>\n",
       "      <td>768.000000</td>\n",
       "      <td>768.000000</td>\n",
       "      <td>768.000000</td>\n",
       "      <td>768.000000</td>\n",
       "      <td>768.000000</td>\n",
       "      <td>768.000000</td>\n",
       "      <td>768.000000</td>\n",
       "      <td>768.000000</td>\n",
       "    </tr>\n",
       "    <tr>\n",
       "      <th>mean</th>\n",
       "      <td>121.117188</td>\n",
       "      <td>69.076823</td>\n",
       "      <td>20.536458</td>\n",
       "      <td>79.799479</td>\n",
       "      <td>31.992578</td>\n",
       "      <td>0.471876</td>\n",
       "      <td>33.243490</td>\n",
       "      <td>0.348958</td>\n",
       "    </tr>\n",
       "    <tr>\n",
       "      <th>std</th>\n",
       "      <td>31.805091</td>\n",
       "      <td>19.367794</td>\n",
       "      <td>15.952218</td>\n",
       "      <td>115.244002</td>\n",
       "      <td>7.884160</td>\n",
       "      <td>0.331329</td>\n",
       "      <td>11.758182</td>\n",
       "      <td>0.476951</td>\n",
       "    </tr>\n",
       "    <tr>\n",
       "      <th>min</th>\n",
       "      <td>0.000000</td>\n",
       "      <td>0.000000</td>\n",
       "      <td>0.000000</td>\n",
       "      <td>0.000000</td>\n",
       "      <td>0.000000</td>\n",
       "      <td>0.078000</td>\n",
       "      <td>21.000000</td>\n",
       "      <td>0.000000</td>\n",
       "    </tr>\n",
       "    <tr>\n",
       "      <th>25%</th>\n",
       "      <td>99.000000</td>\n",
       "      <td>62.000000</td>\n",
       "      <td>0.000000</td>\n",
       "      <td>0.000000</td>\n",
       "      <td>27.300000</td>\n",
       "      <td>0.243750</td>\n",
       "      <td>24.000000</td>\n",
       "      <td>0.000000</td>\n",
       "    </tr>\n",
       "    <tr>\n",
       "      <th>50%</th>\n",
       "      <td>117.000000</td>\n",
       "      <td>72.000000</td>\n",
       "      <td>23.000000</td>\n",
       "      <td>30.500000</td>\n",
       "      <td>32.000000</td>\n",
       "      <td>0.372500</td>\n",
       "      <td>29.000000</td>\n",
       "      <td>0.000000</td>\n",
       "    </tr>\n",
       "    <tr>\n",
       "      <th>75%</th>\n",
       "      <td>142.000000</td>\n",
       "      <td>80.000000</td>\n",
       "      <td>32.000000</td>\n",
       "      <td>127.250000</td>\n",
       "      <td>36.600000</td>\n",
       "      <td>0.626250</td>\n",
       "      <td>41.000000</td>\n",
       "      <td>1.000000</td>\n",
       "    </tr>\n",
       "    <tr>\n",
       "      <th>max</th>\n",
       "      <td>199.000000</td>\n",
       "      <td>122.000000</td>\n",
       "      <td>99.000000</td>\n",
       "      <td>846.000000</td>\n",
       "      <td>67.100000</td>\n",
       "      <td>2.420000</td>\n",
       "      <td>81.000000</td>\n",
       "      <td>1.000000</td>\n",
       "    </tr>\n",
       "  </tbody>\n",
       "</table>\n",
       "</div>"
      ],
      "text/plain": [
       "          Glucose  BloodPressure  SkinThickness     Insulin         BMI  \\\n",
       "count  768.000000     768.000000     768.000000  768.000000  768.000000   \n",
       "mean   121.117188      69.076823      20.536458   79.799479   31.992578   \n",
       "std     31.805091      19.367794      15.952218  115.244002    7.884160   \n",
       "min      0.000000       0.000000       0.000000    0.000000    0.000000   \n",
       "25%     99.000000      62.000000       0.000000    0.000000   27.300000   \n",
       "50%    117.000000      72.000000      23.000000   30.500000   32.000000   \n",
       "75%    142.000000      80.000000      32.000000  127.250000   36.600000   \n",
       "max    199.000000     122.000000      99.000000  846.000000   67.100000   \n",
       "\n",
       "       DiabetesPedigreeFunction         Age     Outcome  \n",
       "count                768.000000  768.000000  768.000000  \n",
       "mean                   0.471876   33.243490    0.348958  \n",
       "std                    0.331329   11.758182    0.476951  \n",
       "min                    0.078000   21.000000    0.000000  \n",
       "25%                    0.243750   24.000000    0.000000  \n",
       "50%                    0.372500   29.000000    0.000000  \n",
       "75%                    0.626250   41.000000    1.000000  \n",
       "max                    2.420000   81.000000    1.000000  "
      ]
     },
     "execution_count": 5,
     "metadata": {},
     "output_type": "execute_result"
    }
   ],
   "source": [
    "df.describe()"
   ]
  },
  {
   "cell_type": "markdown",
   "id": "55713420",
   "metadata": {},
   "source": [
    "# Outlier handling"
   ]
  },
  {
   "cell_type": "code",
   "execution_count": 6,
   "id": "ce0bc670",
   "metadata": {},
   "outputs": [
    {
     "data": {
      "text/plain": [
       "<AxesSubplot:>"
      ]
     },
     "execution_count": 6,
     "metadata": {},
     "output_type": "execute_result"
    },
    {
     "data": {
      "image/png": "[encoded data removed]",
      "text/plain": [
       "<Figure size 720x720 with 1 Axes>"
      ]
     },
     "metadata": {
      "needs_background": "light"
     },
     "output_type": "display_data"
    }
   ],
   "source": [
    "plt.figure(figsize=(10,10))\n",
    "df.boxplot()"
   ]
  },
  {
   "cell_type": "markdown",
   "id": "4040c9d9",
   "metadata": {},
   "source": [
    "# 1.Glucose"
   ]
  },
  {
   "cell_type": "code",
   "execution_count": 7,
   "id": "a865af2a",
   "metadata": {},
   "outputs": [
    {
     "data": {
      "text/plain": [
       "<AxesSubplot:>"
      ]
     },
     "execution_count": 7,
     "metadata": {},
     "output_type": "execute_result"
    },
    {
     "data": {
      "image/png": "[encoded data removed]",
      "text/plain": [
       "<Figure size 432x288 with 1 Axes>"
      ]
     },
     "metadata": {
      "needs_background": "light"
     },
     "output_type": "display_data"
    }
   ],
   "source": [
    "df[['Glucose']].boxplot()"
   ]
  },
  {
   "cell_type": "markdown",
   "id": "d5b50494",
   "metadata": {},
   "source": [
    "# 2. BloodPressure"
   ]
  },
  {
   "cell_type": "code",
   "execution_count": 8,
   "id": "56f60087",
   "metadata": {
    "scrolled": true
   },
   "outputs": [
    {
     "data": {
      "text/plain": [
       "<AxesSubplot:>"
      ]
     },
     "execution_count": 8,
     "metadata": {},
     "output_type": "execute_result"
    },
    {
     "data": {
      "image/png": "[encoded data removed]",
      "text/plain": [
       "<Figure size 432x288 with 1 Axes>"
      ]
     },
     "metadata": {
      "needs_background": "light"
     },
     "output_type": "display_data"
    }
   ],
   "source": [
    "df[['BloodPressure']].boxplot()"
   ]
  },
  {
   "cell_type": "code",
   "execution_count": 9,
   "id": "4c35ad1f",
   "metadata": {},
   "outputs": [
    {
     "name": "stdout",
     "output_type": "stream",
     "text": [
      "Q1 : 62.0\n",
      "Q2 : 72.0\n",
      "Q3 : 80.0\n",
      "Median : 72.0\n",
      "mean :  69.07682291666667\n",
      "upper_tail : 107.0\n",
      "lower_tail : 35.0\n"
     ]
    }
   ],
   "source": [
    "q1 = df['BloodPressure'].quantile(0.25)\n",
    "q2 = df['BloodPressure'].quantile(0.50)\n",
    "q3 = df['BloodPressure'].quantile(0.75)\n",
    "median = df['BloodPressure'].median()\n",
    "mean= df['BloodPressure'].mean()\n",
    "\n",
    "iqr = q3 - q1\n",
    "upper_tail = q3 + 1.5*iqr\n",
    "lower_tail = q1 - 1.5*iqr\n",
    "\n",
    "print(\"Q1 :\",q1)\n",
    "print(\"Q2 :\",q2)\n",
    "print(\"Q3 :\",q3)\n",
    "print(\"Median :\",median)\n",
    "print(\"mean : \",mean)\n",
    "print(\"upper_tail :\",upper_tail)\n",
    "print(\"lower_tail :\",lower_tail)"
   ]
  },
  {
   "cell_type": "code",
   "execution_count": 10,
   "id": "099b8b16",
   "metadata": {},
   "outputs": [
    {
     "data": {
      "text/html": [
       "<div>\n",
       "<style scoped>\n",
       "    .dataframe tbody tr th:only-of-type {\n",
       "        vertical-align: middle;\n",
       "    }\n",
       "\n",
       "    .dataframe tbody tr th {\n",
       "        vertical-align: top;\n",
       "    }\n",
       "\n",
       "    .dataframe thead th {\n",
       "        text-align: right;\n",
       "    }\n",
       "</style>\n",
       "<table border=\"1\" class=\"dataframe\">\n",
       "  <thead>\n",
       "    <tr style=\"text-align: right;\">\n",
       "      <th></th>\n",
       "      <th>BloodPressure</th>\n",
       "    </tr>\n",
       "  </thead>\n",
       "  <tbody>\n",
       "    <tr>\n",
       "      <th>43</th>\n",
       "      <td>110</td>\n",
       "    </tr>\n",
       "    <tr>\n",
       "      <th>84</th>\n",
       "      <td>108</td>\n",
       "    </tr>\n",
       "    <tr>\n",
       "      <th>106</th>\n",
       "      <td>122</td>\n",
       "    </tr>\n",
       "    <tr>\n",
       "      <th>177</th>\n",
       "      <td>110</td>\n",
       "    </tr>\n",
       "    <tr>\n",
       "      <th>362</th>\n",
       "      <td>108</td>\n",
       "    </tr>\n",
       "    <tr>\n",
       "      <th>549</th>\n",
       "      <td>110</td>\n",
       "    </tr>\n",
       "    <tr>\n",
       "      <th>691</th>\n",
       "      <td>114</td>\n",
       "    </tr>\n",
       "  </tbody>\n",
       "</table>\n",
       "</div>"
      ],
      "text/plain": [
       "     BloodPressure\n",
       "43             110\n",
       "84             108\n",
       "106            122\n",
       "177            110\n",
       "362            108\n",
       "549            110\n",
       "691            114"
      ]
     },
     "execution_count": 10,
     "metadata": {},
     "output_type": "execute_result"
    }
   ],
   "source": [
    "df[['BloodPressure']].loc[df['BloodPressure'] > upper_tail]"
   ]
  },
  {
   "cell_type": "code",
   "execution_count": 11,
   "id": "f91d59e9",
   "metadata": {},
   "outputs": [
    {
     "data": {
      "text/html": [
       "<div>\n",
       "<style scoped>\n",
       "    .dataframe tbody tr th:only-of-type {\n",
       "        vertical-align: middle;\n",
       "    }\n",
       "\n",
       "    .dataframe tbody tr th {\n",
       "        vertical-align: top;\n",
       "    }\n",
       "\n",
       "    .dataframe thead th {\n",
       "        text-align: right;\n",
       "    }\n",
       "</style>\n",
       "<table border=\"1\" class=\"dataframe\">\n",
       "  <thead>\n",
       "    <tr style=\"text-align: right;\">\n",
       "      <th></th>\n",
       "      <th>BloodPressure</th>\n",
       "    </tr>\n",
       "  </thead>\n",
       "  <tbody>\n",
       "    <tr>\n",
       "      <th>7</th>\n",
       "      <td>0</td>\n",
       "    </tr>\n",
       "    <tr>\n",
       "      <th>15</th>\n",
       "      <td>0</td>\n",
       "    </tr>\n",
       "    <tr>\n",
       "      <th>18</th>\n",
       "      <td>30</td>\n",
       "    </tr>\n",
       "    <tr>\n",
       "      <th>49</th>\n",
       "      <td>0</td>\n",
       "    </tr>\n",
       "    <tr>\n",
       "      <th>60</th>\n",
       "      <td>0</td>\n",
       "    </tr>\n",
       "    <tr>\n",
       "      <th>78</th>\n",
       "      <td>0</td>\n",
       "    </tr>\n",
       "    <tr>\n",
       "      <th>81</th>\n",
       "      <td>0</td>\n",
       "    </tr>\n",
       "    <tr>\n",
       "      <th>125</th>\n",
       "      <td>30</td>\n",
       "    </tr>\n",
       "    <tr>\n",
       "      <th>172</th>\n",
       "      <td>0</td>\n",
       "    </tr>\n",
       "    <tr>\n",
       "      <th>193</th>\n",
       "      <td>0</td>\n",
       "    </tr>\n",
       "    <tr>\n",
       "      <th>222</th>\n",
       "      <td>0</td>\n",
       "    </tr>\n",
       "    <tr>\n",
       "      <th>261</th>\n",
       "      <td>0</td>\n",
       "    </tr>\n",
       "    <tr>\n",
       "      <th>266</th>\n",
       "      <td>0</td>\n",
       "    </tr>\n",
       "    <tr>\n",
       "      <th>269</th>\n",
       "      <td>0</td>\n",
       "    </tr>\n",
       "    <tr>\n",
       "      <th>300</th>\n",
       "      <td>0</td>\n",
       "    </tr>\n",
       "    <tr>\n",
       "      <th>332</th>\n",
       "      <td>0</td>\n",
       "    </tr>\n",
       "    <tr>\n",
       "      <th>336</th>\n",
       "      <td>0</td>\n",
       "    </tr>\n",
       "    <tr>\n",
       "      <th>347</th>\n",
       "      <td>0</td>\n",
       "    </tr>\n",
       "    <tr>\n",
       "      <th>357</th>\n",
       "      <td>0</td>\n",
       "    </tr>\n",
       "    <tr>\n",
       "      <th>426</th>\n",
       "      <td>0</td>\n",
       "    </tr>\n",
       "    <tr>\n",
       "      <th>430</th>\n",
       "      <td>0</td>\n",
       "    </tr>\n",
       "    <tr>\n",
       "      <th>435</th>\n",
       "      <td>0</td>\n",
       "    </tr>\n",
       "    <tr>\n",
       "      <th>453</th>\n",
       "      <td>0</td>\n",
       "    </tr>\n",
       "    <tr>\n",
       "      <th>468</th>\n",
       "      <td>0</td>\n",
       "    </tr>\n",
       "    <tr>\n",
       "      <th>484</th>\n",
       "      <td>0</td>\n",
       "    </tr>\n",
       "    <tr>\n",
       "      <th>494</th>\n",
       "      <td>0</td>\n",
       "    </tr>\n",
       "    <tr>\n",
       "      <th>522</th>\n",
       "      <td>0</td>\n",
       "    </tr>\n",
       "    <tr>\n",
       "      <th>533</th>\n",
       "      <td>0</td>\n",
       "    </tr>\n",
       "    <tr>\n",
       "      <th>535</th>\n",
       "      <td>0</td>\n",
       "    </tr>\n",
       "    <tr>\n",
       "      <th>589</th>\n",
       "      <td>0</td>\n",
       "    </tr>\n",
       "    <tr>\n",
       "      <th>597</th>\n",
       "      <td>24</td>\n",
       "    </tr>\n",
       "    <tr>\n",
       "      <th>601</th>\n",
       "      <td>0</td>\n",
       "    </tr>\n",
       "    <tr>\n",
       "      <th>604</th>\n",
       "      <td>0</td>\n",
       "    </tr>\n",
       "    <tr>\n",
       "      <th>619</th>\n",
       "      <td>0</td>\n",
       "    </tr>\n",
       "    <tr>\n",
       "      <th>643</th>\n",
       "      <td>0</td>\n",
       "    </tr>\n",
       "    <tr>\n",
       "      <th>697</th>\n",
       "      <td>0</td>\n",
       "    </tr>\n",
       "    <tr>\n",
       "      <th>703</th>\n",
       "      <td>0</td>\n",
       "    </tr>\n",
       "    <tr>\n",
       "      <th>706</th>\n",
       "      <td>0</td>\n",
       "    </tr>\n",
       "  </tbody>\n",
       "</table>\n",
       "</div>"
      ],
      "text/plain": [
       "     BloodPressure\n",
       "7                0\n",
       "15               0\n",
       "18              30\n",
       "49               0\n",
       "60               0\n",
       "78               0\n",
       "81               0\n",
       "125             30\n",
       "172              0\n",
       "193              0\n",
       "222              0\n",
       "261              0\n",
       "266              0\n",
       "269              0\n",
       "300              0\n",
       "332              0\n",
       "336              0\n",
       "347              0\n",
       "357              0\n",
       "426              0\n",
       "430              0\n",
       "435              0\n",
       "453              0\n",
       "468              0\n",
       "484              0\n",
       "494              0\n",
       "522              0\n",
       "533              0\n",
       "535              0\n",
       "589              0\n",
       "597             24\n",
       "601              0\n",
       "604              0\n",
       "619              0\n",
       "643              0\n",
       "697              0\n",
       "703              0\n",
       "706              0"
      ]
     },
     "execution_count": 11,
     "metadata": {},
     "output_type": "execute_result"
    }
   ],
   "source": [
    "df[['BloodPressure']].loc[df['BloodPressure'] < lower_tail]"
   ]
  },
  {
   "cell_type": "code",
   "execution_count": 12,
   "id": "6f82e21f",
   "metadata": {},
   "outputs": [
    {
     "data": {
      "text/plain": [
       "72.0"
      ]
     },
     "execution_count": 12,
     "metadata": {},
     "output_type": "execute_result"
    }
   ],
   "source": [
    "med_BloodPressure = df[['BloodPressure']].loc[(df['BloodPressure'] < upper_tail) &  (df['BloodPressure'] > lower_tail)].median()[0]\n",
    "med_BloodPressure"
   ]
  },
  {
   "cell_type": "code",
   "execution_count": 13,
   "id": "08eb8a28",
   "metadata": {},
   "outputs": [],
   "source": [
    "df.loc[(df['BloodPressure'] > upper_tail) |\n",
    "                (df['BloodPressure'] < lower_tail), 'BloodPressure'] = med_BloodPressure"
   ]
  },
  {
   "cell_type": "code",
   "execution_count": 14,
   "id": "f78a095a",
   "metadata": {},
   "outputs": [
    {
     "data": {
      "text/plain": [
       "Series([], Name: BloodPressure, dtype: int64)"
      ]
     },
     "execution_count": 14,
     "metadata": {},
     "output_type": "execute_result"
    }
   ],
   "source": [
    "df[['BloodPressure']].loc[(df['BloodPressure'] > upper_tail) |\n",
    "                (df['BloodPressure'] < lower_tail), 'BloodPressure']"
   ]
  },
  {
   "cell_type": "code",
   "execution_count": 15,
   "id": "87e4e831",
   "metadata": {},
   "outputs": [
    {
     "data": {
      "text/plain": [
       "Glucose                     0\n",
       "BloodPressure               0\n",
       "SkinThickness               0\n",
       "Insulin                     0\n",
       "BMI                         0\n",
       "DiabetesPedigreeFunction    0\n",
       "Age                         0\n",
       "Outcome                     0\n",
       "dtype: int64"
      ]
     },
     "execution_count": 15,
     "metadata": {},
     "output_type": "execute_result"
    }
   ],
   "source": [
    "df.isna().sum()"
   ]
  },
  {
   "cell_type": "markdown",
   "id": "9ece388b",
   "metadata": {},
   "source": [
    "# 3.SkinThickness "
   ]
  },
  {
   "cell_type": "code",
   "execution_count": 16,
   "id": "63e62320",
   "metadata": {},
   "outputs": [
    {
     "data": {
      "text/plain": [
       "<AxesSubplot:>"
      ]
     },
     "execution_count": 16,
     "metadata": {},
     "output_type": "execute_result"
    },
    {
     "data": {
      "image/png": "[encoded data removed]",
      "text/plain": [
       "<Figure size 432x288 with 1 Axes>"
      ]
     },
     "metadata": {
      "needs_background": "light"
     },
     "output_type": "display_data"
    }
   ],
   "source": [
    "df[['SkinThickness']].boxplot()"
   ]
  },
  {
   "cell_type": "code",
   "execution_count": 17,
   "id": "3523b7b0",
   "metadata": {},
   "outputs": [
    {
     "name": "stdout",
     "output_type": "stream",
     "text": [
      "Q1 : 0.0\n",
      "Q2 : 23.0\n",
      "Q3 : 32.0\n",
      "Median : 23.0\n",
      "mean :  20.536458333333332\n",
      "upper_tail : 80.0\n",
      "lower_tail : -48.0\n"
     ]
    }
   ],
   "source": [
    "q1 = df['SkinThickness'].quantile(0.25)\n",
    "q2 = df['SkinThickness'].quantile(0.50)\n",
    "q3 = df['SkinThickness'].quantile(0.75)\n",
    "median = df['SkinThickness'].median()\n",
    "mean= df['SkinThickness'].mean()\n",
    "\n",
    "iqr = q3 - q1\n",
    "upper_tail = q3 + 1.5*iqr\n",
    "lower_tail = q1 - 1.5*iqr\n",
    "\n",
    "print(\"Q1 :\",q1)\n",
    "print(\"Q2 :\",q2)\n",
    "print(\"Q3 :\",q3)\n",
    "print(\"Median :\",median)\n",
    "print(\"mean : \",mean)\n",
    "print(\"upper_tail :\",upper_tail)\n",
    "print(\"lower_tail :\",lower_tail)"
   ]
  },
  {
   "cell_type": "code",
   "execution_count": 18,
   "id": "04901077",
   "metadata": {},
   "outputs": [
    {
     "data": {
      "text/html": [
       "<div>\n",
       "<style scoped>\n",
       "    .dataframe tbody tr th:only-of-type {\n",
       "        vertical-align: middle;\n",
       "    }\n",
       "\n",
       "    .dataframe tbody tr th {\n",
       "        vertical-align: top;\n",
       "    }\n",
       "\n",
       "    .dataframe thead th {\n",
       "        text-align: right;\n",
       "    }\n",
       "</style>\n",
       "<table border=\"1\" class=\"dataframe\">\n",
       "  <thead>\n",
       "    <tr style=\"text-align: right;\">\n",
       "      <th></th>\n",
       "      <th>SkinThickness</th>\n",
       "    </tr>\n",
       "  </thead>\n",
       "  <tbody>\n",
       "    <tr>\n",
       "      <th>579</th>\n",
       "      <td>99</td>\n",
       "    </tr>\n",
       "  </tbody>\n",
       "</table>\n",
       "</div>"
      ],
      "text/plain": [
       "     SkinThickness\n",
       "579             99"
      ]
     },
     "execution_count": 18,
     "metadata": {},
     "output_type": "execute_result"
    }
   ],
   "source": [
    "df[['SkinThickness']].loc[df['SkinThickness'] > upper_tail]"
   ]
  },
  {
   "cell_type": "code",
   "execution_count": 19,
   "id": "6127b17e",
   "metadata": {},
   "outputs": [
    {
     "data": {
      "text/plain": [
       "23.0"
      ]
     },
     "execution_count": 19,
     "metadata": {},
     "output_type": "execute_result"
    }
   ],
   "source": [
    "med_SkinThickness = df.loc[df['SkinThickness'] < upper_tail, 'SkinThickness'].median()\n",
    "med_SkinThickness"
   ]
  },
  {
   "cell_type": "code",
   "execution_count": 20,
   "id": "65b6a846",
   "metadata": {},
   "outputs": [],
   "source": [
    "df.loc[(df['SkinThickness'] > upper_tail),'SkinThickness'] = med_SkinThickness"
   ]
  },
  {
   "cell_type": "code",
   "execution_count": 21,
   "id": "a53552f4",
   "metadata": {},
   "outputs": [
    {
     "data": {
      "text/plain": [
       "Glucose                     0\n",
       "BloodPressure               0\n",
       "SkinThickness               0\n",
       "Insulin                     0\n",
       "BMI                         0\n",
       "DiabetesPedigreeFunction    0\n",
       "Age                         0\n",
       "Outcome                     0\n",
       "dtype: int64"
      ]
     },
     "execution_count": 21,
     "metadata": {},
     "output_type": "execute_result"
    }
   ],
   "source": [
    "df.isna().sum()"
   ]
  },
  {
   "cell_type": "markdown",
   "id": "f14e25d5",
   "metadata": {},
   "source": [
    "# 4. Insulin"
   ]
  },
  {
   "cell_type": "code",
   "execution_count": 22,
   "id": "6d2a0222",
   "metadata": {},
   "outputs": [
    {
     "data": {
      "text/plain": [
       "<AxesSubplot:>"
      ]
     },
     "execution_count": 22,
     "metadata": {},
     "output_type": "execute_result"
    },
    {
     "data": {
      "image/png": "[encoded data removed]",
      "text/plain": [
       "<Figure size 432x288 with 1 Axes>"
      ]
     },
     "metadata": {
      "needs_background": "light"
     },
     "output_type": "display_data"
    }
   ],
   "source": [
    "df[['Insulin']].boxplot()"
   ]
  },
  {
   "cell_type": "code",
   "execution_count": 23,
   "id": "6c8288b1",
   "metadata": {},
   "outputs": [
    {
     "name": "stdout",
     "output_type": "stream",
     "text": [
      "Q1 : 0.0\n",
      "Q2 : 30.5\n",
      "Q3 : 127.25\n",
      "Median : 30.5\n",
      "mean :  79.79947916666667\n",
      "upper_tail : 318.125\n",
      "lower_tail : -190.875\n"
     ]
    }
   ],
   "source": [
    "q1 = df['Insulin'].quantile(0.25)\n",
    "q2 = df['Insulin'].quantile(0.50)\n",
    "q3 = df['Insulin'].quantile(0.75)\n",
    "median = df['Insulin'].median()\n",
    "mean= df['Insulin'].mean()\n",
    "\n",
    "iqr = q3 - q1\n",
    "upper_tail = q3 + 1.5*iqr\n",
    "lower_tail = q1 - 1.5*iqr\n",
    "\n",
    "print(\"Q1 :\",q1)\n",
    "print(\"Q2 :\",q2)\n",
    "print(\"Q3 :\",q3)\n",
    "print(\"Median :\",median)\n",
    "print(\"mean : \",mean)\n",
    "print(\"upper_tail :\",upper_tail)\n",
    "print(\"lower_tail :\",lower_tail)"
   ]
  },
  {
   "cell_type": "code",
   "execution_count": 24,
   "id": "d94b50b5",
   "metadata": {},
   "outputs": [
    {
     "data": {
      "text/html": [
       "<div>\n",
       "<style scoped>\n",
       "    .dataframe tbody tr th:only-of-type {\n",
       "        vertical-align: middle;\n",
       "    }\n",
       "\n",
       "    .dataframe tbody tr th {\n",
       "        vertical-align: top;\n",
       "    }\n",
       "\n",
       "    .dataframe thead th {\n",
       "        text-align: right;\n",
       "    }\n",
       "</style>\n",
       "<table border=\"1\" class=\"dataframe\">\n",
       "  <thead>\n",
       "    <tr style=\"text-align: right;\">\n",
       "      <th></th>\n",
       "      <th>Insulin</th>\n",
       "    </tr>\n",
       "  </thead>\n",
       "  <tbody>\n",
       "    <tr>\n",
       "      <th>8</th>\n",
       "      <td>543</td>\n",
       "    </tr>\n",
       "    <tr>\n",
       "      <th>13</th>\n",
       "      <td>846</td>\n",
       "    </tr>\n",
       "    <tr>\n",
       "      <th>54</th>\n",
       "      <td>342</td>\n",
       "    </tr>\n",
       "    <tr>\n",
       "      <th>111</th>\n",
       "      <td>495</td>\n",
       "    </tr>\n",
       "    <tr>\n",
       "      <th>139</th>\n",
       "      <td>325</td>\n",
       "    </tr>\n",
       "    <tr>\n",
       "      <th>153</th>\n",
       "      <td>485</td>\n",
       "    </tr>\n",
       "    <tr>\n",
       "      <th>186</th>\n",
       "      <td>495</td>\n",
       "    </tr>\n",
       "    <tr>\n",
       "      <th>220</th>\n",
       "      <td>478</td>\n",
       "    </tr>\n",
       "    <tr>\n",
       "      <th>228</th>\n",
       "      <td>744</td>\n",
       "    </tr>\n",
       "    <tr>\n",
       "      <th>231</th>\n",
       "      <td>370</td>\n",
       "    </tr>\n",
       "    <tr>\n",
       "      <th>247</th>\n",
       "      <td>680</td>\n",
       "    </tr>\n",
       "    <tr>\n",
       "      <th>248</th>\n",
       "      <td>402</td>\n",
       "    </tr>\n",
       "    <tr>\n",
       "      <th>258</th>\n",
       "      <td>375</td>\n",
       "    </tr>\n",
       "    <tr>\n",
       "      <th>286</th>\n",
       "      <td>545</td>\n",
       "    </tr>\n",
       "    <tr>\n",
       "      <th>296</th>\n",
       "      <td>360</td>\n",
       "    </tr>\n",
       "    <tr>\n",
       "      <th>360</th>\n",
       "      <td>325</td>\n",
       "    </tr>\n",
       "    <tr>\n",
       "      <th>370</th>\n",
       "      <td>465</td>\n",
       "    </tr>\n",
       "    <tr>\n",
       "      <th>375</th>\n",
       "      <td>325</td>\n",
       "    </tr>\n",
       "    <tr>\n",
       "      <th>392</th>\n",
       "      <td>415</td>\n",
       "    </tr>\n",
       "    <tr>\n",
       "      <th>409</th>\n",
       "      <td>579</td>\n",
       "    </tr>\n",
       "    <tr>\n",
       "      <th>415</th>\n",
       "      <td>474</td>\n",
       "    </tr>\n",
       "    <tr>\n",
       "      <th>480</th>\n",
       "      <td>328</td>\n",
       "    </tr>\n",
       "    <tr>\n",
       "      <th>486</th>\n",
       "      <td>480</td>\n",
       "    </tr>\n",
       "    <tr>\n",
       "      <th>519</th>\n",
       "      <td>326</td>\n",
       "    </tr>\n",
       "    <tr>\n",
       "      <th>574</th>\n",
       "      <td>330</td>\n",
       "    </tr>\n",
       "    <tr>\n",
       "      <th>584</th>\n",
       "      <td>600</td>\n",
       "    </tr>\n",
       "    <tr>\n",
       "      <th>612</th>\n",
       "      <td>321</td>\n",
       "    </tr>\n",
       "    <tr>\n",
       "      <th>645</th>\n",
       "      <td>440</td>\n",
       "    </tr>\n",
       "    <tr>\n",
       "      <th>655</th>\n",
       "      <td>540</td>\n",
       "    </tr>\n",
       "    <tr>\n",
       "      <th>695</th>\n",
       "      <td>480</td>\n",
       "    </tr>\n",
       "    <tr>\n",
       "      <th>707</th>\n",
       "      <td>335</td>\n",
       "    </tr>\n",
       "    <tr>\n",
       "      <th>710</th>\n",
       "      <td>387</td>\n",
       "    </tr>\n",
       "    <tr>\n",
       "      <th>715</th>\n",
       "      <td>392</td>\n",
       "    </tr>\n",
       "    <tr>\n",
       "      <th>753</th>\n",
       "      <td>510</td>\n",
       "    </tr>\n",
       "  </tbody>\n",
       "</table>\n",
       "</div>"
      ],
      "text/plain": [
       "     Insulin\n",
       "8        543\n",
       "13       846\n",
       "54       342\n",
       "111      495\n",
       "139      325\n",
       "153      485\n",
       "186      495\n",
       "220      478\n",
       "228      744\n",
       "231      370\n",
       "247      680\n",
       "248      402\n",
       "258      375\n",
       "286      545\n",
       "296      360\n",
       "360      325\n",
       "370      465\n",
       "375      325\n",
       "392      415\n",
       "409      579\n",
       "415      474\n",
       "480      328\n",
       "486      480\n",
       "519      326\n",
       "574      330\n",
       "584      600\n",
       "612      321\n",
       "645      440\n",
       "655      540\n",
       "695      480\n",
       "707      335\n",
       "710      387\n",
       "715      392\n",
       "753      510"
      ]
     },
     "execution_count": 24,
     "metadata": {},
     "output_type": "execute_result"
    }
   ],
   "source": [
    "df[['Insulin']].loc[df['Insulin'] > upper_tail]"
   ]
  },
  {
   "cell_type": "code",
   "execution_count": 25,
   "id": "37d7d7ac",
   "metadata": {},
   "outputs": [
    {
     "data": {
      "text/plain": [
       "0.0"
      ]
     },
     "execution_count": 25,
     "metadata": {},
     "output_type": "execute_result"
    }
   ],
   "source": [
    "med_Insulin = df.loc[df['Insulin'] < upper_tail, 'Insulin'].median()\n",
    "med_Insulin"
   ]
  },
  {
   "cell_type": "code",
   "execution_count": 26,
   "id": "fdac28e3",
   "metadata": {},
   "outputs": [
    {
     "data": {
      "text/plain": [
       "0.0"
      ]
     },
     "execution_count": 26,
     "metadata": {},
     "output_type": "execute_result"
    }
   ],
   "source": [
    "med_Insulin = df.loc[df['Insulin'] < upper_tail, 'Insulin'].median()\n",
    "med_Insulin"
   ]
  },
  {
   "cell_type": "code",
   "execution_count": 27,
   "id": "1d8effb5",
   "metadata": {},
   "outputs": [
    {
     "data": {
      "text/plain": [
       "Glucose                     0\n",
       "BloodPressure               0\n",
       "SkinThickness               0\n",
       "Insulin                     0\n",
       "BMI                         0\n",
       "DiabetesPedigreeFunction    0\n",
       "Age                         0\n",
       "Outcome                     0\n",
       "dtype: int64"
      ]
     },
     "execution_count": 27,
     "metadata": {},
     "output_type": "execute_result"
    }
   ],
   "source": [
    "df.isna().sum()"
   ]
  },
  {
   "cell_type": "markdown",
   "id": "d374a31b",
   "metadata": {},
   "source": [
    "# 5.BMI "
   ]
  },
  {
   "cell_type": "code",
   "execution_count": 28,
   "id": "6cd56180",
   "metadata": {},
   "outputs": [
    {
     "data": {
      "text/plain": [
       "<AxesSubplot:>"
      ]
     },
     "execution_count": 28,
     "metadata": {},
     "output_type": "execute_result"
    },
    {
     "data": {
      "image/png": "[encoded data removed]",
      "text/plain": [
       "<Figure size 432x288 with 1 Axes>"
      ]
     },
     "metadata": {
      "needs_background": "light"
     },
     "output_type": "display_data"
    }
   ],
   "source": [
    "df[['BMI']].boxplot()"
   ]
  },
  {
   "cell_type": "code",
   "execution_count": 29,
   "id": "e46e9930",
   "metadata": {},
   "outputs": [
    {
     "name": "stdout",
     "output_type": "stream",
     "text": [
      "Q1 : 27.3\n",
      "Q2 : 32.0\n",
      "Q3 : 36.6\n",
      "Median : 32.0\n",
      "mean :  31.992578124999977\n",
      "upper_tail : 50.550000000000004\n",
      "lower_tail : 13.35\n"
     ]
    }
   ],
   "source": [
    "q1 = df['BMI'].quantile(0.25)\n",
    "q2 = df['BMI'].quantile(0.50)\n",
    "q3 = df['BMI'].quantile(0.75)\n",
    "median = df['BMI'].median()\n",
    "mean= df['BMI'].mean()\n",
    "\n",
    "iqr = q3 - q1\n",
    "upper_tail = q3 + 1.5*iqr\n",
    "lower_tail = q1 - 1.5*iqr\n",
    "\n",
    "print(\"Q1 :\",q1)\n",
    "print(\"Q2 :\",q2)\n",
    "print(\"Q3 :\",q3)\n",
    "print(\"Median :\",median)\n",
    "print(\"mean : \",mean)\n",
    "print(\"upper_tail :\",upper_tail)\n",
    "print(\"lower_tail :\",lower_tail)"
   ]
  },
  {
   "cell_type": "code",
   "execution_count": 30,
   "id": "3ef8a4f5",
   "metadata": {},
   "outputs": [
    {
     "data": {
      "text/html": [
       "<div>\n",
       "<style scoped>\n",
       "    .dataframe tbody tr th:only-of-type {\n",
       "        vertical-align: middle;\n",
       "    }\n",
       "\n",
       "    .dataframe tbody tr th {\n",
       "        vertical-align: top;\n",
       "    }\n",
       "\n",
       "    .dataframe thead th {\n",
       "        text-align: right;\n",
       "    }\n",
       "</style>\n",
       "<table border=\"1\" class=\"dataframe\">\n",
       "  <thead>\n",
       "    <tr style=\"text-align: right;\">\n",
       "      <th></th>\n",
       "      <th>BMI</th>\n",
       "    </tr>\n",
       "  </thead>\n",
       "  <tbody>\n",
       "    <tr>\n",
       "      <th>120</th>\n",
       "      <td>53.2</td>\n",
       "    </tr>\n",
       "    <tr>\n",
       "      <th>125</th>\n",
       "      <td>55.0</td>\n",
       "    </tr>\n",
       "    <tr>\n",
       "      <th>177</th>\n",
       "      <td>67.1</td>\n",
       "    </tr>\n",
       "    <tr>\n",
       "      <th>193</th>\n",
       "      <td>52.3</td>\n",
       "    </tr>\n",
       "    <tr>\n",
       "      <th>247</th>\n",
       "      <td>52.3</td>\n",
       "    </tr>\n",
       "    <tr>\n",
       "      <th>303</th>\n",
       "      <td>52.9</td>\n",
       "    </tr>\n",
       "    <tr>\n",
       "      <th>445</th>\n",
       "      <td>59.4</td>\n",
       "    </tr>\n",
       "    <tr>\n",
       "      <th>673</th>\n",
       "      <td>57.3</td>\n",
       "    </tr>\n",
       "  </tbody>\n",
       "</table>\n",
       "</div>"
      ],
      "text/plain": [
       "      BMI\n",
       "120  53.2\n",
       "125  55.0\n",
       "177  67.1\n",
       "193  52.3\n",
       "247  52.3\n",
       "303  52.9\n",
       "445  59.4\n",
       "673  57.3"
      ]
     },
     "execution_count": 30,
     "metadata": {},
     "output_type": "execute_result"
    }
   ],
   "source": [
    "df[['BMI']].loc[df['BMI'] > upper_tail]"
   ]
  },
  {
   "cell_type": "code",
   "execution_count": 31,
   "id": "7408f81d",
   "metadata": {},
   "outputs": [
    {
     "data": {
      "text/html": [
       "<div>\n",
       "<style scoped>\n",
       "    .dataframe tbody tr th:only-of-type {\n",
       "        vertical-align: middle;\n",
       "    }\n",
       "\n",
       "    .dataframe tbody tr th {\n",
       "        vertical-align: top;\n",
       "    }\n",
       "\n",
       "    .dataframe thead th {\n",
       "        text-align: right;\n",
       "    }\n",
       "</style>\n",
       "<table border=\"1\" class=\"dataframe\">\n",
       "  <thead>\n",
       "    <tr style=\"text-align: right;\">\n",
       "      <th></th>\n",
       "      <th>BMI</th>\n",
       "    </tr>\n",
       "  </thead>\n",
       "  <tbody>\n",
       "    <tr>\n",
       "      <th>9</th>\n",
       "      <td>0.0</td>\n",
       "    </tr>\n",
       "    <tr>\n",
       "      <th>49</th>\n",
       "      <td>0.0</td>\n",
       "    </tr>\n",
       "    <tr>\n",
       "      <th>60</th>\n",
       "      <td>0.0</td>\n",
       "    </tr>\n",
       "    <tr>\n",
       "      <th>81</th>\n",
       "      <td>0.0</td>\n",
       "    </tr>\n",
       "    <tr>\n",
       "      <th>145</th>\n",
       "      <td>0.0</td>\n",
       "    </tr>\n",
       "    <tr>\n",
       "      <th>371</th>\n",
       "      <td>0.0</td>\n",
       "    </tr>\n",
       "    <tr>\n",
       "      <th>426</th>\n",
       "      <td>0.0</td>\n",
       "    </tr>\n",
       "    <tr>\n",
       "      <th>494</th>\n",
       "      <td>0.0</td>\n",
       "    </tr>\n",
       "    <tr>\n",
       "      <th>522</th>\n",
       "      <td>0.0</td>\n",
       "    </tr>\n",
       "    <tr>\n",
       "      <th>684</th>\n",
       "      <td>0.0</td>\n",
       "    </tr>\n",
       "    <tr>\n",
       "      <th>706</th>\n",
       "      <td>0.0</td>\n",
       "    </tr>\n",
       "  </tbody>\n",
       "</table>\n",
       "</div>"
      ],
      "text/plain": [
       "     BMI\n",
       "9    0.0\n",
       "49   0.0\n",
       "60   0.0\n",
       "81   0.0\n",
       "145  0.0\n",
       "371  0.0\n",
       "426  0.0\n",
       "494  0.0\n",
       "522  0.0\n",
       "684  0.0\n",
       "706  0.0"
      ]
     },
     "execution_count": 31,
     "metadata": {},
     "output_type": "execute_result"
    }
   ],
   "source": [
    "df[['BMI']].loc[df['BMI'] < lower_tail]"
   ]
  },
  {
   "cell_type": "code",
   "execution_count": 32,
   "id": "0e14e5c5",
   "metadata": {},
   "outputs": [
    {
     "data": {
      "text/plain": [
       "32.0"
      ]
     },
     "execution_count": 32,
     "metadata": {},
     "output_type": "execute_result"
    }
   ],
   "source": [
    "med_BMI = df[['BMI']].loc[(df['BMI'] < upper_tail) &  (df['BMI'] > lower_tail)].median()[0]\n",
    "med_BMI"
   ]
  },
  {
   "cell_type": "code",
   "execution_count": 33,
   "id": "a96a91ee",
   "metadata": {},
   "outputs": [],
   "source": [
    "df.loc[(df['BMI'] > upper_tail) |\n",
    "                (df['BMI'] < lower_tail), 'BMI'] = med_BMI"
   ]
  },
  {
   "cell_type": "code",
   "execution_count": 34,
   "id": "b8303633",
   "metadata": {},
   "outputs": [
    {
     "data": {
      "text/plain": [
       "Series([], Name: BMI, dtype: float64)"
      ]
     },
     "execution_count": 34,
     "metadata": {},
     "output_type": "execute_result"
    }
   ],
   "source": [
    "df[['BMI']].loc[(df['BMI'] > upper_tail) |\n",
    "                (df['BMI'] < lower_tail), 'BMI']"
   ]
  },
  {
   "cell_type": "code",
   "execution_count": 35,
   "id": "42857f09",
   "metadata": {},
   "outputs": [
    {
     "data": {
      "text/plain": [
       "Glucose                     0\n",
       "BloodPressure               0\n",
       "SkinThickness               0\n",
       "Insulin                     0\n",
       "BMI                         0\n",
       "DiabetesPedigreeFunction    0\n",
       "Age                         0\n",
       "Outcome                     0\n",
       "dtype: int64"
      ]
     },
     "execution_count": 35,
     "metadata": {},
     "output_type": "execute_result"
    }
   ],
   "source": [
    "df.isna().sum()"
   ]
  },
  {
   "cell_type": "markdown",
   "id": "e01bbc0d",
   "metadata": {},
   "source": [
    "# 6. DiabetesPedigreeFunction"
   ]
  },
  {
   "cell_type": "code",
   "execution_count": 36,
   "id": "bdc8e1e7",
   "metadata": {},
   "outputs": [
    {
     "data": {
      "text/plain": [
       "<AxesSubplot:>"
      ]
     },
     "execution_count": 36,
     "metadata": {},
     "output_type": "execute_result"
    },
    {
     "data": {
      "image/png": "[encoded data removed]",
      "text/plain": [
       "<Figure size 432x288 with 1 Axes>"
      ]
     },
     "metadata": {
      "needs_background": "light"
     },
     "output_type": "display_data"
    }
   ],
   "source": [
    "df[['DiabetesPedigreeFunction']].boxplot()"
   ]
  },
  {
   "cell_type": "code",
   "execution_count": 37,
   "id": "b6481453",
   "metadata": {},
   "outputs": [
    {
     "name": "stdout",
     "output_type": "stream",
     "text": [
      "Q1 : 0.24375\n",
      "Q2 : 0.3725\n",
      "Q3 : 0.62625\n",
      "Median : 0.3725\n",
      "mean :  0.4718763020833327\n",
      "upper_tail : 1.2\n",
      "lower_tail : -0.32999999999999996\n"
     ]
    }
   ],
   "source": [
    "q1 = df['DiabetesPedigreeFunction'].quantile(0.25)\n",
    "q2 = df['DiabetesPedigreeFunction'].quantile(0.50)\n",
    "q3 = df['DiabetesPedigreeFunction'].quantile(0.75)\n",
    "median = df['DiabetesPedigreeFunction'].median()\n",
    "mean= df['DiabetesPedigreeFunction'].mean()\n",
    "\n",
    "iqr = q3 - q1\n",
    "upper_tail = q3 + 1.5*iqr\n",
    "lower_tail = q1 - 1.5*iqr\n",
    "\n",
    "print(\"Q1 :\",q1)\n",
    "print(\"Q2 :\",q2)\n",
    "print(\"Q3 :\",q3)\n",
    "print(\"Median :\",median)\n",
    "print(\"mean : \",mean)\n",
    "print(\"upper_tail :\",upper_tail)\n",
    "print(\"lower_tail :\",lower_tail)"
   ]
  },
  {
   "cell_type": "code",
   "execution_count": 38,
   "id": "50eaed3e",
   "metadata": {},
   "outputs": [
    {
     "data": {
      "text/html": [
       "<div>\n",
       "<style scoped>\n",
       "    .dataframe tbody tr th:only-of-type {\n",
       "        vertical-align: middle;\n",
       "    }\n",
       "\n",
       "    .dataframe tbody tr th {\n",
       "        vertical-align: top;\n",
       "    }\n",
       "\n",
       "    .dataframe thead th {\n",
       "        text-align: right;\n",
       "    }\n",
       "</style>\n",
       "<table border=\"1\" class=\"dataframe\">\n",
       "  <thead>\n",
       "    <tr style=\"text-align: right;\">\n",
       "      <th></th>\n",
       "      <th>DiabetesPedigreeFunction</th>\n",
       "    </tr>\n",
       "  </thead>\n",
       "  <tbody>\n",
       "    <tr>\n",
       "      <th>4</th>\n",
       "      <td>2.288</td>\n",
       "    </tr>\n",
       "    <tr>\n",
       "      <th>12</th>\n",
       "      <td>1.441</td>\n",
       "    </tr>\n",
       "    <tr>\n",
       "      <th>39</th>\n",
       "      <td>1.390</td>\n",
       "    </tr>\n",
       "    <tr>\n",
       "      <th>45</th>\n",
       "      <td>1.893</td>\n",
       "    </tr>\n",
       "    <tr>\n",
       "      <th>58</th>\n",
       "      <td>1.781</td>\n",
       "    </tr>\n",
       "    <tr>\n",
       "      <th>100</th>\n",
       "      <td>1.222</td>\n",
       "    </tr>\n",
       "    <tr>\n",
       "      <th>147</th>\n",
       "      <td>1.400</td>\n",
       "    </tr>\n",
       "    <tr>\n",
       "      <th>187</th>\n",
       "      <td>1.321</td>\n",
       "    </tr>\n",
       "    <tr>\n",
       "      <th>218</th>\n",
       "      <td>1.224</td>\n",
       "    </tr>\n",
       "    <tr>\n",
       "      <th>228</th>\n",
       "      <td>2.329</td>\n",
       "    </tr>\n",
       "    <tr>\n",
       "      <th>243</th>\n",
       "      <td>1.318</td>\n",
       "    </tr>\n",
       "    <tr>\n",
       "      <th>245</th>\n",
       "      <td>1.213</td>\n",
       "    </tr>\n",
       "    <tr>\n",
       "      <th>259</th>\n",
       "      <td>1.353</td>\n",
       "    </tr>\n",
       "    <tr>\n",
       "      <th>292</th>\n",
       "      <td>1.224</td>\n",
       "    </tr>\n",
       "    <tr>\n",
       "      <th>308</th>\n",
       "      <td>1.391</td>\n",
       "    </tr>\n",
       "    <tr>\n",
       "      <th>330</th>\n",
       "      <td>1.476</td>\n",
       "    </tr>\n",
       "    <tr>\n",
       "      <th>370</th>\n",
       "      <td>2.137</td>\n",
       "    </tr>\n",
       "    <tr>\n",
       "      <th>371</th>\n",
       "      <td>1.731</td>\n",
       "    </tr>\n",
       "    <tr>\n",
       "      <th>383</th>\n",
       "      <td>1.268</td>\n",
       "    </tr>\n",
       "    <tr>\n",
       "      <th>395</th>\n",
       "      <td>1.600</td>\n",
       "    </tr>\n",
       "    <tr>\n",
       "      <th>445</th>\n",
       "      <td>2.420</td>\n",
       "    </tr>\n",
       "    <tr>\n",
       "      <th>534</th>\n",
       "      <td>1.251</td>\n",
       "    </tr>\n",
       "    <tr>\n",
       "      <th>593</th>\n",
       "      <td>1.699</td>\n",
       "    </tr>\n",
       "    <tr>\n",
       "      <th>606</th>\n",
       "      <td>1.258</td>\n",
       "    </tr>\n",
       "    <tr>\n",
       "      <th>618</th>\n",
       "      <td>1.282</td>\n",
       "    </tr>\n",
       "    <tr>\n",
       "      <th>621</th>\n",
       "      <td>1.698</td>\n",
       "    </tr>\n",
       "    <tr>\n",
       "      <th>622</th>\n",
       "      <td>1.461</td>\n",
       "    </tr>\n",
       "    <tr>\n",
       "      <th>659</th>\n",
       "      <td>1.292</td>\n",
       "    </tr>\n",
       "    <tr>\n",
       "      <th>661</th>\n",
       "      <td>1.394</td>\n",
       "    </tr>\n",
       "  </tbody>\n",
       "</table>\n",
       "</div>"
      ],
      "text/plain": [
       "     DiabetesPedigreeFunction\n",
       "4                       2.288\n",
       "12                      1.441\n",
       "39                      1.390\n",
       "45                      1.893\n",
       "58                      1.781\n",
       "100                     1.222\n",
       "147                     1.400\n",
       "187                     1.321\n",
       "218                     1.224\n",
       "228                     2.329\n",
       "243                     1.318\n",
       "245                     1.213\n",
       "259                     1.353\n",
       "292                     1.224\n",
       "308                     1.391\n",
       "330                     1.476\n",
       "370                     2.137\n",
       "371                     1.731\n",
       "383                     1.268\n",
       "395                     1.600\n",
       "445                     2.420\n",
       "534                     1.251\n",
       "593                     1.699\n",
       "606                     1.258\n",
       "618                     1.282\n",
       "621                     1.698\n",
       "622                     1.461\n",
       "659                     1.292\n",
       "661                     1.394"
      ]
     },
     "execution_count": 38,
     "metadata": {},
     "output_type": "execute_result"
    }
   ],
   "source": [
    "df[['DiabetesPedigreeFunction']].loc[df['DiabetesPedigreeFunction'] > upper_tail]"
   ]
  },
  {
   "cell_type": "code",
   "execution_count": 39,
   "id": "d1293768",
   "metadata": {},
   "outputs": [
    {
     "data": {
      "text/plain": [
       "0.356"
      ]
     },
     "execution_count": 39,
     "metadata": {},
     "output_type": "execute_result"
    }
   ],
   "source": [
    "med_DiabetesPedigreeFunction = df.loc[df['DiabetesPedigreeFunction'] < upper_tail, 'DiabetesPedigreeFunction'].median()\n",
    "med_DiabetesPedigreeFunction"
   ]
  },
  {
   "cell_type": "code",
   "execution_count": 40,
   "id": "c0d8e56e",
   "metadata": {},
   "outputs": [
    {
     "data": {
      "text/plain": [
       "Glucose                     0\n",
       "BloodPressure               0\n",
       "SkinThickness               0\n",
       "Insulin                     0\n",
       "BMI                         0\n",
       "DiabetesPedigreeFunction    0\n",
       "Age                         0\n",
       "Outcome                     0\n",
       "dtype: int64"
      ]
     },
     "execution_count": 40,
     "metadata": {},
     "output_type": "execute_result"
    }
   ],
   "source": [
    "df.isna().sum()"
   ]
  },
  {
   "cell_type": "markdown",
   "id": "f0b8238b",
   "metadata": {},
   "source": [
    "# 7.Age"
   ]
  },
  {
   "cell_type": "code",
   "execution_count": 41,
   "id": "2711c528",
   "metadata": {},
   "outputs": [
    {
     "data": {
      "text/plain": [
       "<AxesSubplot:>"
      ]
     },
     "execution_count": 41,
     "metadata": {},
     "output_type": "execute_result"
    },
    {
     "data": {
      "image/png": "[encoded data removed]",
      "text/plain": [
       "<Figure size 432x288 with 1 Axes>"
      ]
     },
     "metadata": {
      "needs_background": "light"
     },
     "output_type": "display_data"
    }
   ],
   "source": [
    "df[['Age']].boxplot()"
   ]
  },
  {
   "cell_type": "code",
   "execution_count": 42,
   "id": "2bd675fe",
   "metadata": {},
   "outputs": [
    {
     "name": "stdout",
     "output_type": "stream",
     "text": [
      "Q1 : 24.0\n",
      "Q2 : 29.0\n",
      "Q3 : 41.0\n",
      "Median : 29.0\n",
      "mean :  33.243489583333336\n",
      "upper_tail : 66.5\n",
      "lower_tail : -1.5\n"
     ]
    }
   ],
   "source": [
    "q1 = df['Age'].quantile(0.25)\n",
    "q2 = df['Age'].quantile(0.50)\n",
    "q3 = df['Age'].quantile(0.75)\n",
    "median = df['Age'].median()\n",
    "mean= df['Age'].mean()\n",
    "\n",
    "iqr = q3 - q1\n",
    "upper_tail = q3 + 1.5*iqr\n",
    "lower_tail = q1 - 1.5*iqr\n",
    "\n",
    "print(\"Q1 :\",q1)\n",
    "print(\"Q2 :\",q2)\n",
    "print(\"Q3 :\",q3)\n",
    "print(\"Median :\",median)\n",
    "print(\"mean : \",mean)\n",
    "print(\"upper_tail :\",upper_tail)\n",
    "print(\"lower_tail :\",lower_tail)"
   ]
  },
  {
   "cell_type": "code",
   "execution_count": 43,
   "id": "c32e8a9c",
   "metadata": {},
   "outputs": [
    {
     "data": {
      "text/html": [
       "<div>\n",
       "<style scoped>\n",
       "    .dataframe tbody tr th:only-of-type {\n",
       "        vertical-align: middle;\n",
       "    }\n",
       "\n",
       "    .dataframe tbody tr th {\n",
       "        vertical-align: top;\n",
       "    }\n",
       "\n",
       "    .dataframe thead th {\n",
       "        text-align: right;\n",
       "    }\n",
       "</style>\n",
       "<table border=\"1\" class=\"dataframe\">\n",
       "  <thead>\n",
       "    <tr style=\"text-align: right;\">\n",
       "      <th></th>\n",
       "      <th>Age</th>\n",
       "    </tr>\n",
       "  </thead>\n",
       "  <tbody>\n",
       "    <tr>\n",
       "      <th>123</th>\n",
       "      <td>69</td>\n",
       "    </tr>\n",
       "    <tr>\n",
       "      <th>363</th>\n",
       "      <td>67</td>\n",
       "    </tr>\n",
       "    <tr>\n",
       "      <th>453</th>\n",
       "      <td>72</td>\n",
       "    </tr>\n",
       "    <tr>\n",
       "      <th>459</th>\n",
       "      <td>81</td>\n",
       "    </tr>\n",
       "    <tr>\n",
       "      <th>489</th>\n",
       "      <td>67</td>\n",
       "    </tr>\n",
       "    <tr>\n",
       "      <th>537</th>\n",
       "      <td>67</td>\n",
       "    </tr>\n",
       "    <tr>\n",
       "      <th>666</th>\n",
       "      <td>70</td>\n",
       "    </tr>\n",
       "    <tr>\n",
       "      <th>674</th>\n",
       "      <td>68</td>\n",
       "    </tr>\n",
       "    <tr>\n",
       "      <th>684</th>\n",
       "      <td>69</td>\n",
       "    </tr>\n",
       "  </tbody>\n",
       "</table>\n",
       "</div>"
      ],
      "text/plain": [
       "     Age\n",
       "123   69\n",
       "363   67\n",
       "453   72\n",
       "459   81\n",
       "489   67\n",
       "537   67\n",
       "666   70\n",
       "674   68\n",
       "684   69"
      ]
     },
     "execution_count": 43,
     "metadata": {},
     "output_type": "execute_result"
    }
   ],
   "source": [
    "df[['Age']].loc[df['Age'] > upper_tail]"
   ]
  },
  {
   "cell_type": "code",
   "execution_count": 44,
   "id": "87c1a81a",
   "metadata": {},
   "outputs": [
    {
     "data": {
      "text/plain": [
       "29.0"
      ]
     },
     "execution_count": 44,
     "metadata": {},
     "output_type": "execute_result"
    }
   ],
   "source": [
    "med_Age = df.loc[df['Age'] < upper_tail, 'Age'].median()\n",
    "med_Age"
   ]
  },
  {
   "cell_type": "code",
   "execution_count": 45,
   "id": "3ac1f4b9",
   "metadata": {},
   "outputs": [
    {
     "data": {
      "text/plain": [
       "123    69\n",
       "363    67\n",
       "453    72\n",
       "459    81\n",
       "489    67\n",
       "537    67\n",
       "666    70\n",
       "674    68\n",
       "684    69\n",
       "Name: Age, dtype: int64"
      ]
     },
     "execution_count": 45,
     "metadata": {},
     "output_type": "execute_result"
    }
   ],
   "source": [
    "df.loc[df['Age'] > upper_tail, 'Age']"
   ]
  },
  {
   "cell_type": "code",
   "execution_count": 46,
   "id": "e92fa492",
   "metadata": {},
   "outputs": [
    {
     "data": {
      "text/plain": [
       "Glucose                     0\n",
       "BloodPressure               0\n",
       "SkinThickness               0\n",
       "Insulin                     0\n",
       "BMI                         0\n",
       "DiabetesPedigreeFunction    0\n",
       "Age                         0\n",
       "Outcome                     0\n",
       "dtype: int64"
      ]
     },
     "execution_count": 46,
     "metadata": {},
     "output_type": "execute_result"
    }
   ],
   "source": [
    "df.isna().sum()"
   ]
  },
  {
   "cell_type": "code",
   "execution_count": 57,
   "id": "3513ab08",
   "metadata": {},
   "outputs": [
    {
     "data": {
      "text/plain": [
       "{0: 500, 1: 268}"
      ]
     },
     "execution_count": 57,
     "metadata": {},
     "output_type": "execute_result"
    }
   ],
   "source": [
    "#\n",
    "df['Outcome'].value_counts().to_dict()"
   ]
  },
  {
   "cell_type": "code",
   "execution_count": 73,
   "id": "874b1fb6",
   "metadata": {},
   "outputs": [],
   "source": [
    "#\n",
    "df['Outcome'].replace({0: 'No', 1: \"yes\"},inplace=True)"
   ]
  },
  {
   "cell_type": "code",
   "execution_count": 70,
   "id": "9e430ed4",
   "metadata": {},
   "outputs": [
    {
     "data": {
      "text/plain": [
       "No     500\n",
       "yes    268\n",
       "Name: Outcome, dtype: int64"
      ]
     },
     "execution_count": 70,
     "metadata": {},
     "output_type": "execute_result"
    }
   ],
   "source": [
    "df['Outcome'].value_counts()"
   ]
  },
  {
   "cell_type": "markdown",
   "id": "b896b4c5",
   "metadata": {},
   "source": [
    "# Train Test Split"
   ]
  },
  {
   "cell_type": "code",
   "execution_count": 47,
   "id": "05273a12",
   "metadata": {},
   "outputs": [],
   "source": [
    "x = df.drop('Outcome', axis=1)\n",
    "y = df['Outcome']  # target column\n",
    "\n",
    "x_train, x_test, y_train, y_test = train_test_split(x,y, test_size=0.25, random_state=1, stratify=y)\n"
   ]
  },
  {
   "cell_type": "code",
   "execution_count": 48,
   "id": "2998c925",
   "metadata": {},
   "outputs": [
    {
     "data": {
      "text/plain": [
       "0    500\n",
       "1    268\n",
       "Name: Outcome, dtype: int64"
      ]
     },
     "execution_count": 48,
     "metadata": {},
     "output_type": "execute_result"
    }
   ],
   "source": [
    "y.value_counts()"
   ]
  },
  {
   "cell_type": "code",
   "execution_count": 49,
   "id": "c8c42b95",
   "metadata": {},
   "outputs": [
    {
     "data": {
      "text/plain": [
       "0    375\n",
       "1    201\n",
       "Name: Outcome, dtype: int64"
      ]
     },
     "execution_count": 49,
     "metadata": {},
     "output_type": "execute_result"
    }
   ],
   "source": [
    "y_train.value_counts()"
   ]
  },
  {
   "cell_type": "code",
   "execution_count": 50,
   "id": "e2ff9e6c",
   "metadata": {},
   "outputs": [
    {
     "data": {
      "text/plain": [
       "0    125\n",
       "1     67\n",
       "Name: Outcome, dtype: int64"
      ]
     },
     "execution_count": 50,
     "metadata": {},
     "output_type": "execute_result"
    }
   ],
   "source": [
    "y_test.value_counts()"
   ]
  },
  {
   "cell_type": "code",
   "execution_count": 51,
   "id": "01585d44",
   "metadata": {},
   "outputs": [
    {
     "data": {
      "text/html": [
       "<div>\n",
       "<style scoped>\n",
       "    .dataframe tbody tr th:only-of-type {\n",
       "        vertical-align: middle;\n",
       "    }\n",
       "\n",
       "    .dataframe tbody tr th {\n",
       "        vertical-align: top;\n",
       "    }\n",
       "\n",
       "    .dataframe thead th {\n",
       "        text-align: right;\n",
       "    }\n",
       "</style>\n",
       "<table border=\"1\" class=\"dataframe\">\n",
       "  <thead>\n",
       "    <tr style=\"text-align: right;\">\n",
       "      <th></th>\n",
       "      <th>Glucose</th>\n",
       "      <th>BloodPressure</th>\n",
       "      <th>SkinThickness</th>\n",
       "      <th>Insulin</th>\n",
       "      <th>BMI</th>\n",
       "      <th>DiabetesPedigreeFunction</th>\n",
       "      <th>Age</th>\n",
       "      <th>Outcome</th>\n",
       "    </tr>\n",
       "  </thead>\n",
       "  <tbody>\n",
       "    <tr>\n",
       "      <th>count</th>\n",
       "      <td>768.000000</td>\n",
       "      <td>768.000000</td>\n",
       "      <td>768.000000</td>\n",
       "      <td>768.000000</td>\n",
       "      <td>768.000000</td>\n",
       "      <td>768.000000</td>\n",
       "      <td>768.000000</td>\n",
       "      <td>768.000000</td>\n",
       "    </tr>\n",
       "    <tr>\n",
       "      <th>mean</th>\n",
       "      <td>121.117188</td>\n",
       "      <td>72.167969</td>\n",
       "      <td>20.437500</td>\n",
       "      <td>79.799479</td>\n",
       "      <td>32.198958</td>\n",
       "      <td>0.471876</td>\n",
       "      <td>33.243490</td>\n",
       "      <td>0.348958</td>\n",
       "    </tr>\n",
       "    <tr>\n",
       "      <th>std</th>\n",
       "      <td>31.805091</td>\n",
       "      <td>11.175460</td>\n",
       "      <td>15.698554</td>\n",
       "      <td>115.244002</td>\n",
       "      <td>6.410558</td>\n",
       "      <td>0.331329</td>\n",
       "      <td>11.758182</td>\n",
       "      <td>0.476951</td>\n",
       "    </tr>\n",
       "    <tr>\n",
       "      <th>min</th>\n",
       "      <td>0.000000</td>\n",
       "      <td>38.000000</td>\n",
       "      <td>0.000000</td>\n",
       "      <td>0.000000</td>\n",
       "      <td>18.200000</td>\n",
       "      <td>0.078000</td>\n",
       "      <td>21.000000</td>\n",
       "      <td>0.000000</td>\n",
       "    </tr>\n",
       "    <tr>\n",
       "      <th>25%</th>\n",
       "      <td>99.000000</td>\n",
       "      <td>64.000000</td>\n",
       "      <td>0.000000</td>\n",
       "      <td>0.000000</td>\n",
       "      <td>27.500000</td>\n",
       "      <td>0.243750</td>\n",
       "      <td>24.000000</td>\n",
       "      <td>0.000000</td>\n",
       "    </tr>\n",
       "    <tr>\n",
       "      <th>50%</th>\n",
       "      <td>117.000000</td>\n",
       "      <td>72.000000</td>\n",
       "      <td>23.000000</td>\n",
       "      <td>30.500000</td>\n",
       "      <td>32.000000</td>\n",
       "      <td>0.372500</td>\n",
       "      <td>29.000000</td>\n",
       "      <td>0.000000</td>\n",
       "    </tr>\n",
       "    <tr>\n",
       "      <th>75%</th>\n",
       "      <td>142.000000</td>\n",
       "      <td>80.000000</td>\n",
       "      <td>32.000000</td>\n",
       "      <td>127.250000</td>\n",
       "      <td>36.300000</td>\n",
       "      <td>0.626250</td>\n",
       "      <td>41.000000</td>\n",
       "      <td>1.000000</td>\n",
       "    </tr>\n",
       "    <tr>\n",
       "      <th>max</th>\n",
       "      <td>199.000000</td>\n",
       "      <td>106.000000</td>\n",
       "      <td>63.000000</td>\n",
       "      <td>846.000000</td>\n",
       "      <td>50.000000</td>\n",
       "      <td>2.420000</td>\n",
       "      <td>81.000000</td>\n",
       "      <td>1.000000</td>\n",
       "    </tr>\n",
       "  </tbody>\n",
       "</table>\n",
       "</div>"
      ],
      "text/plain": [
       "          Glucose  BloodPressure  SkinThickness     Insulin         BMI  \\\n",
       "count  768.000000     768.000000     768.000000  768.000000  768.000000   \n",
       "mean   121.117188      72.167969      20.437500   79.799479   32.198958   \n",
       "std     31.805091      11.175460      15.698554  115.244002    6.410558   \n",
       "min      0.000000      38.000000       0.000000    0.000000   18.200000   \n",
       "25%     99.000000      64.000000       0.000000    0.000000   27.500000   \n",
       "50%    117.000000      72.000000      23.000000   30.500000   32.000000   \n",
       "75%    142.000000      80.000000      32.000000  127.250000   36.300000   \n",
       "max    199.000000     106.000000      63.000000  846.000000   50.000000   \n",
       "\n",
       "       DiabetesPedigreeFunction         Age     Outcome  \n",
       "count                768.000000  768.000000  768.000000  \n",
       "mean                   0.471876   33.243490    0.348958  \n",
       "std                    0.331329   11.758182    0.476951  \n",
       "min                    0.078000   21.000000    0.000000  \n",
       "25%                    0.243750   24.000000    0.000000  \n",
       "50%                    0.372500   29.000000    0.000000  \n",
       "75%                    0.626250   41.000000    1.000000  \n",
       "max                    2.420000   81.000000    1.000000  "
      ]
     },
     "execution_count": 51,
     "metadata": {},
     "output_type": "execute_result"
    }
   ],
   "source": [
    "df.describe()"
   ]
  },
  {
   "cell_type": "code",
   "execution_count": 56,
   "id": "162753ef",
   "metadata": {},
   "outputs": [
    {
     "data": {
      "text/plain": [
       "Glucose                     0\n",
       "BloodPressure               0\n",
       "SkinThickness               0\n",
       "Insulin                     0\n",
       "BMI                         0\n",
       "DiabetesPedigreeFunction    0\n",
       "Age                         0\n",
       "Outcome                     0\n",
       "dtype: int64"
      ]
     },
     "execution_count": 56,
     "metadata": {},
     "output_type": "execute_result"
    }
   ],
   "source": [
    "df.isna().sum()"
   ]
  },
  {
   "cell_type": "markdown",
   "id": "6d3120f2",
   "metadata": {},
   "source": [
    "# Model training"
   ]
  },
  {
   "cell_type": "code",
   "execution_count": 54,
   "id": "2deb31ba",
   "metadata": {},
   "outputs": [
    {
     "data": {
      "text/html": [
       "<style>#sk-container-id-1 {color: black;background-color: white;}#sk-container-id-1 pre{padding: 0;}#sk-container-id-1 div.sk-toggleable {background-color: white;}#sk-container-id-1 label.sk-toggleable__label {cursor: pointer;display: block;width: 100%;margin-bottom: 0;padding: 0.3em;box-sizing: border-box;text-align: center;}#sk-container-id-1 label.sk-toggleable__label-arrow:before {content: \"▸\";float: left;margin-right: 0.25em;color: #696969;}#sk-container-id-1 label.sk-toggleable__label-arrow:hover:before {color: black;}#sk-container-id-1 div.sk-estimator:hover label.sk-toggleable__label-arrow:before {color: black;}#sk-container-id-1 div.sk-toggleable__content {max-height: 0;max-width: 0;overflow: hidden;text-align: left;background-color: #f0f8ff;}#sk-container-id-1 div.sk-toggleable__content pre {margin: 0.2em;color: black;border-radius: 0.25em;background-color: #f0f8ff;}#sk-container-id-1 input.sk-toggleable__control:checked~div.sk-toggleable__content {max-height: 200px;max-width: 100%;overflow: auto;}#sk-container-id-1 input.sk-toggleable__control:checked~label.sk-toggleable__label-arrow:before {content: \"▾\";}#sk-container-id-1 div.sk-estimator input.sk-toggleable__control:checked~label.sk-toggleable__label {background-color: #d4ebff;}#sk-container-id-1 div.sk-label input.sk-toggleable__control:checked~label.sk-toggleable__label {background-color: #d4ebff;}#sk-container-id-1 input.sk-hidden--visually {border: 0;clip: rect(1px 1px 1px 1px);clip: rect(1px, 1px, 1px, 1px);height: 1px;margin: -1px;overflow: hidden;padding: 0;position: absolute;width: 1px;}#sk-container-id-1 div.sk-estimator {font-family: monospace;background-color: #f0f8ff;border: 1px dotted black;border-radius: 0.25em;box-sizing: border-box;margin-bottom: 0.5em;}#sk-container-id-1 div.sk-estimator:hover {background-color: #d4ebff;}#sk-container-id-1 div.sk-parallel-item::after {content: \"\";width: 100%;border-bottom: 1px solid gray;flex-grow: 1;}#sk-container-id-1 div.sk-label:hover label.sk-toggleable__label {background-color: #d4ebff;}#sk-container-id-1 div.sk-serial::before {content: \"\";position: absolute;border-left: 1px solid gray;box-sizing: border-box;top: 0;bottom: 0;left: 50%;z-index: 0;}#sk-container-id-1 div.sk-serial {display: flex;flex-direction: column;align-items: center;background-color: white;padding-right: 0.2em;padding-left: 0.2em;position: relative;}#sk-container-id-1 div.sk-item {position: relative;z-index: 1;}#sk-container-id-1 div.sk-parallel {display: flex;align-items: stretch;justify-content: center;background-color: white;position: relative;}#sk-container-id-1 div.sk-item::before, #sk-container-id-1 div.sk-parallel-item::before {content: \"\";position: absolute;border-left: 1px solid gray;box-sizing: border-box;top: 0;bottom: 0;left: 50%;z-index: -1;}#sk-container-id-1 div.sk-parallel-item {display: flex;flex-direction: column;z-index: 1;position: relative;background-color: white;}#sk-container-id-1 div.sk-parallel-item:first-child::after {align-self: flex-end;width: 50%;}#sk-container-id-1 div.sk-parallel-item:last-child::after {align-self: flex-start;width: 50%;}#sk-container-id-1 div.sk-parallel-item:only-child::after {width: 0;}#sk-container-id-1 div.sk-dashed-wrapped {border: 1px dashed gray;margin: 0 0.4em 0.5em 0.4em;box-sizing: border-box;padding-bottom: 0.4em;background-color: white;}#sk-container-id-1 div.sk-label label {font-family: monospace;font-weight: bold;display: inline-block;line-height: 1.2em;}#sk-container-id-1 div.sk-label-container {text-align: center;}#sk-container-id-1 div.sk-container {/* jupyter's `normalize.less` sets `[hidden] { display: none; }` but bootstrap.min.css set `[hidden] { display: none !important; }` so we also need the `!important` here to be able to override the default hidden behavior on the sphinx rendered scikit-learn.org. See: https://github.com/scikit-learn/scikit-learn/issues/21755 */display: inline-block !important;position: relative;}#sk-container-id-1 div.sk-text-repr-fallback {display: none;}</style><div id=\"sk-container-id-1\" class=\"sk-top-container\"><div class=\"sk-text-repr-fallback\"><pre>LogisticRegression()</pre><b>In a Jupyter environment, please rerun this cell to show the HTML representation or trust the notebook. <br />On GitHub, the HTML representation is unable to render, please try loading this page with nbviewer.org.</b></div><div class=\"sk-container\" hidden><div class=\"sk-item\"><div class=\"sk-estimator sk-toggleable\"><input class=\"sk-toggleable__control sk-hidden--visually\" id=\"sk-estimator-id-1\" type=\"checkbox\" checked><label for=\"sk-estimator-id-1\" class=\"sk-toggleable__label sk-toggleable__label-arrow\">LogisticRegression</label><div class=\"sk-toggleable__content\"><pre>LogisticRegression()</pre></div></div></div></div></div>"
      ],
      "text/plain": [
       "LogisticRegression()"
      ]
     },
     "execution_count": 54,
     "metadata": {},
     "output_type": "execute_result"
    }
   ],
   "source": [
    "# Create Instance\n",
    "model = LogisticRegression()\n",
    "model.fit(x_train, y_train)"
   ]
  },
  {
   "cell_type": "code",
   "execution_count": 63,
   "id": "f24c0ea7",
   "metadata": {},
   "outputs": [
    {
     "data": {
      "text/plain": [
       "<sklearn.metrics._plot.confusion_matrix.ConfusionMatrixDisplay at 0x18a0c3bc490>"
      ]
     },
     "execution_count": 63,
     "metadata": {},
     "output_type": "execute_result"
    },
    {
     "data": {
      "image/png": "[encoded data removed]",
      "text/plain": [
       "<Figure size 432x288 with 2 Axes>"
      ]
     },
     "metadata": {
      "needs_background": "light"
     },
     "output_type": "display_data"
    }
   ],
   "source": [
    "# Training Data\n",
    "plot_confusion_matrix(model, x_train, y_train)"
   ]
  },
  {
   "cell_type": "code",
   "execution_count": 64,
   "id": "b88277cc",
   "metadata": {},
   "outputs": [
    {
     "data": {
      "text/plain": [
       "<sklearn.metrics._plot.confusion_matrix.ConfusionMatrixDisplay at 0x18a0b0d51c0>"
      ]
     },
     "execution_count": 64,
     "metadata": {},
     "output_type": "execute_result"
    },
    {
     "data": {
      "image/png": "[encoded data removed]",
      "text/plain": [
       "<Figure size 432x288 with 2 Axes>"
      ]
     },
     "metadata": {
      "needs_background": "light"
     },
     "output_type": "display_data"
    }
   ],
   "source": [
    "# Training Data\n",
    "plot_confusion_matrix(model, x_test, y_test)"
   ]
  },
  {
   "cell_type": "code",
   "execution_count": 65,
   "id": "09118e9a",
   "metadata": {},
   "outputs": [
    {
     "data": {
      "text/plain": [
       "0.7795138888888888"
      ]
     },
     "execution_count": 65,
     "metadata": {},
     "output_type": "execute_result"
    }
   ],
   "source": [
    "# Training Accuracy\n",
    "model.score(x_train, y_train)"
   ]
  },
  {
   "cell_type": "code",
   "execution_count": 66,
   "id": "310cf18c",
   "metadata": {},
   "outputs": [
    {
     "data": {
      "text/plain": [
       "0.7447916666666666"
      ]
     },
     "execution_count": 66,
     "metadata": {},
     "output_type": "execute_result"
    }
   ],
   "source": [
    "# Testing Accuracy\n",
    "model.score(x_test, y_test)"
   ]
  },
  {
   "cell_type": "markdown",
   "id": "da4a9aa4",
   "metadata": {},
   "source": [
    "# Model Evaluation"
   ]
  },
  {
   "cell_type": "code",
   "execution_count": 78,
   "id": "232b5f4d",
   "metadata": {},
   "outputs": [
    {
     "data": {
      "text/plain": [
       "array([0, 1, 0, 0, 0, 0, 1, 1, 1, 0, 1, 0, 0, 1, 0, 0, 1, 0, 0, 0, 0, 0,\n",
       "       0, 0, 0, 1, 1, 0, 0, 0, 0, 1, 0, 1, 0, 0, 0, 0, 0, 1, 0, 1, 0, 1,\n",
       "       0, 1, 1, 0, 0, 0, 1, 0, 0, 1, 0, 0, 1, 1, 1, 0, 0, 0, 0, 0, 0, 0,\n",
       "       0, 0, 0, 0, 0, 1, 0, 1, 0, 0, 0, 0, 0, 0, 0, 0, 0, 0, 0, 0, 0, 0,\n",
       "       0, 0, 0, 1, 0, 0, 1, 0, 0, 0, 0, 0, 1, 0, 1, 0, 0, 0, 0, 1, 0, 0,\n",
       "       0, 1, 0, 0, 0, 0, 1, 0, 0, 1, 0, 0, 0, 1, 1, 1, 0, 1, 0, 0, 0, 0,\n",
       "       0, 1, 0, 0, 1, 0, 1, 0, 1, 0, 1, 0, 1, 0, 0, 0, 1, 0, 0, 0, 0, 0,\n",
       "       0, 1, 0, 0, 0, 0, 0, 0, 0, 0, 0, 1, 1, 0, 1, 1, 0, 0, 0, 0, 1, 1,\n",
       "       0, 0, 0, 1, 0, 0, 0, 0, 0, 1, 0, 1, 0, 0, 0, 0], dtype=int64)"
      ]
     },
     "execution_count": 78,
     "metadata": {},
     "output_type": "execute_result"
    }
   ],
   "source": [
    "# prediction\n",
    "y_pred = model.predict(x_test)\n",
    "y_pred"
   ]
  },
  {
   "cell_type": "code",
   "execution_count": 77,
   "id": "43370ebd",
   "metadata": {},
   "outputs": [
    {
     "data": {
      "text/plain": [
       "array([[0.92561742, 0.07438258],\n",
       "       [0.35384121, 0.64615879],\n",
       "       [0.7501479 , 0.2498521 ],\n",
       "       [0.50051594, 0.49948406],\n",
       "       [0.86971202, 0.13028798],\n",
       "       [0.95197901, 0.04802099],\n",
       "       [0.13647943, 0.86352057],\n",
       "       [0.2113954 , 0.7886046 ],\n",
       "       [0.04532724, 0.95467276],\n",
       "       [0.99813232, 0.00186768],\n",
       "       [0.14060532, 0.85939468],\n",
       "       [0.53113913, 0.46886087],\n",
       "       [0.89697832, 0.10302168],\n",
       "       [0.16019751, 0.83980249],\n",
       "       [0.57000758, 0.42999242],\n",
       "       [0.87329079, 0.12670921],\n",
       "       [0.43924843, 0.56075157],\n",
       "       [0.93938733, 0.06061267],\n",
       "       [0.68705806, 0.31294194],\n",
       "       [0.88807054, 0.11192946],\n",
       "       [0.94463461, 0.05536539],\n",
       "       [0.78829965, 0.21170035],\n",
       "       [0.81801922, 0.18198078],\n",
       "       [0.80766131, 0.19233869],\n",
       "       [0.84333662, 0.15666338],\n",
       "       [0.23693055, 0.76306945],\n",
       "       [0.35337832, 0.64662168],\n",
       "       [0.94264987, 0.05735013],\n",
       "       [0.55590214, 0.44409786],\n",
       "       [0.55153919, 0.44846081],\n",
       "       [0.7182202 , 0.2817798 ],\n",
       "       [0.21520549, 0.78479451],\n",
       "       [0.66753927, 0.33246073],\n",
       "       [0.36805326, 0.63194674],\n",
       "       [0.50289051, 0.49710949],\n",
       "       [0.66097474, 0.33902526],\n",
       "       [0.87603295, 0.12396705],\n",
       "       [0.81737659, 0.18262341],\n",
       "       [0.90164957, 0.09835043],\n",
       "       [0.35115295, 0.64884705],\n",
       "       [0.91413751, 0.08586249],\n",
       "       [0.19276724, 0.80723276],\n",
       "       [0.69365366, 0.30634634],\n",
       "       [0.21516049, 0.78483951],\n",
       "       [0.92584728, 0.07415272],\n",
       "       [0.37890868, 0.62109132],\n",
       "       [0.14303707, 0.85696293],\n",
       "       [0.92123985, 0.07876015],\n",
       "       [0.77909048, 0.22090952],\n",
       "       [0.81861521, 0.18138479],\n",
       "       [0.25658237, 0.74341763],\n",
       "       [0.83857834, 0.16142166],\n",
       "       [0.8138434 , 0.1861566 ],\n",
       "       [0.30526775, 0.69473225],\n",
       "       [0.79034578, 0.20965422],\n",
       "       [0.54659992, 0.45340008],\n",
       "       [0.37624877, 0.62375123],\n",
       "       [0.13376359, 0.86623641],\n",
       "       [0.40788078, 0.59211922],\n",
       "       [0.8974626 , 0.1025374 ],\n",
       "       [0.88997576, 0.11002424],\n",
       "       [0.9327726 , 0.0672274 ],\n",
       "       [0.64053613, 0.35946387],\n",
       "       [0.86817138, 0.13182862],\n",
       "       [0.94469664, 0.05530336],\n",
       "       [0.71528347, 0.28471653],\n",
       "       [0.66228065, 0.33771935],\n",
       "       [0.60416685, 0.39583315],\n",
       "       [0.93159554, 0.06840446],\n",
       "       [0.60699915, 0.39300085],\n",
       "       [0.94821799, 0.05178201],\n",
       "       [0.35236521, 0.64763479],\n",
       "       [0.91040116, 0.08959884],\n",
       "       [0.25456875, 0.74543125],\n",
       "       [0.91618267, 0.08381733],\n",
       "       [0.78283873, 0.21716127],\n",
       "       [0.74943936, 0.25056064],\n",
       "       [0.69172682, 0.30827318],\n",
       "       [0.90744651, 0.09255349],\n",
       "       [0.68091045, 0.31908955],\n",
       "       [0.74880256, 0.25119744],\n",
       "       [0.93603984, 0.06396016],\n",
       "       [0.71632015, 0.28367985],\n",
       "       [0.9222621 , 0.0777379 ],\n",
       "       [0.95293348, 0.04706652],\n",
       "       [0.82546511, 0.17453489],\n",
       "       [0.99560994, 0.00439006],\n",
       "       [0.96231898, 0.03768102],\n",
       "       [0.85900825, 0.14099175],\n",
       "       [0.56784315, 0.43215685],\n",
       "       [0.56651763, 0.43348237],\n",
       "       [0.41069919, 0.58930081],\n",
       "       [0.79598435, 0.20401565],\n",
       "       [0.76952105, 0.23047895],\n",
       "       [0.27904185, 0.72095815],\n",
       "       [0.68296278, 0.31703722],\n",
       "       [0.93602519, 0.06397481],\n",
       "       [0.7846875 , 0.2153125 ],\n",
       "       [0.92339518, 0.07660482],\n",
       "       [0.81084493, 0.18915507],\n",
       "       [0.4017676 , 0.5982324 ],\n",
       "       [0.87087924, 0.12912076],\n",
       "       [0.32978469, 0.67021531],\n",
       "       [0.73642026, 0.26357974],\n",
       "       [0.81758679, 0.18241321],\n",
       "       [0.85330384, 0.14669616],\n",
       "       [0.9694371 , 0.0305629 ],\n",
       "       [0.11756798, 0.88243202],\n",
       "       [0.62254307, 0.37745693],\n",
       "       [0.67514635, 0.32485365],\n",
       "       [0.92363751, 0.07636249],\n",
       "       [0.48076825, 0.51923175],\n",
       "       [0.76573985, 0.23426015],\n",
       "       [0.83445052, 0.16554948],\n",
       "       [0.92533134, 0.07466866],\n",
       "       [0.91392236, 0.08607764],\n",
       "       [0.25940393, 0.74059607],\n",
       "       [0.69770106, 0.30229894],\n",
       "       [0.95848062, 0.04151938],\n",
       "       [0.33402501, 0.66597499],\n",
       "       [0.87347454, 0.12652546],\n",
       "       [0.52545288, 0.47454712],\n",
       "       [0.77722205, 0.22277795],\n",
       "       [0.10349416, 0.89650584],\n",
       "       [0.23515169, 0.76484831],\n",
       "       [0.38817577, 0.61182423],\n",
       "       [0.89169178, 0.10830822],\n",
       "       [0.19503541, 0.80496459],\n",
       "       [0.8579199 , 0.1420801 ],\n",
       "       [0.80848074, 0.19151926],\n",
       "       [0.64578254, 0.35421746],\n",
       "       [0.78609332, 0.21390668],\n",
       "       [0.95452276, 0.04547724],\n",
       "       [0.42857033, 0.57142967],\n",
       "       [0.84092686, 0.15907314],\n",
       "       [0.73324905, 0.26675095],\n",
       "       [0.15397152, 0.84602848],\n",
       "       [0.5829337 , 0.4170663 ],\n",
       "       [0.46178892, 0.53821108],\n",
       "       [0.75525474, 0.24474526],\n",
       "       [0.41707493, 0.58292507],\n",
       "       [0.81331126, 0.18668874],\n",
       "       [0.19708236, 0.80291764],\n",
       "       [0.92138049, 0.07861951],\n",
       "       [0.42776936, 0.57223064],\n",
       "       [0.78547173, 0.21452827],\n",
       "       [0.89273707, 0.10726293],\n",
       "       [0.9648692 , 0.0351308 ],\n",
       "       [0.47990133, 0.52009867],\n",
       "       [0.79315921, 0.20684079],\n",
       "       [0.66243475, 0.33756525],\n",
       "       [0.77071344, 0.22928656],\n",
       "       [0.61271037, 0.38728963],\n",
       "       [0.90776184, 0.09223816],\n",
       "       [0.66702331, 0.33297669],\n",
       "       [0.25707502, 0.74292498],\n",
       "       [0.71536693, 0.28463307],\n",
       "       [0.93397215, 0.06602785],\n",
       "       [0.69754065, 0.30245935],\n",
       "       [0.71310553, 0.28689447],\n",
       "       [0.98246005, 0.01753995],\n",
       "       [0.51628664, 0.48371336],\n",
       "       [0.80922668, 0.19077332],\n",
       "       [0.69455263, 0.30544737],\n",
       "       [0.71916583, 0.28083417],\n",
       "       [0.18515784, 0.81484216],\n",
       "       [0.01639526, 0.98360474],\n",
       "       [0.95759871, 0.04240129],\n",
       "       [0.48307738, 0.51692262],\n",
       "       [0.27563796, 0.72436204],\n",
       "       [0.95872892, 0.04127108],\n",
       "       [0.8335011 , 0.1664989 ],\n",
       "       [0.72071822, 0.27928178],\n",
       "       [0.75661277, 0.24338723],\n",
       "       [0.45788738, 0.54211262],\n",
       "       [0.45194988, 0.54805012],\n",
       "       [0.85625181, 0.14374819],\n",
       "       [0.93487898, 0.06512102],\n",
       "       [0.57856119, 0.42143881],\n",
       "       [0.43195   , 0.56805   ],\n",
       "       [0.79064598, 0.20935402],\n",
       "       [0.88655998, 0.11344002],\n",
       "       [0.95633066, 0.04366934],\n",
       "       [0.50331328, 0.49668672],\n",
       "       [0.83860193, 0.16139807],\n",
       "       [0.19630899, 0.80369101],\n",
       "       [0.92953277, 0.07046723],\n",
       "       [0.23443943, 0.76556057],\n",
       "       [0.73468923, 0.26531077],\n",
       "       [0.89075037, 0.10924963],\n",
       "       [0.8375901 , 0.1624099 ],\n",
       "       [0.96472424, 0.03527576]])"
      ]
     },
     "execution_count": 77,
     "metadata": {},
     "output_type": "execute_result"
    }
   ],
   "source": [
    "# prediction probability\n",
    "y_pred_proba = model.predict_proba(x_test)\n",
    "y_pred_proba"
   ]
  },
  {
   "cell_type": "code",
   "execution_count": 79,
   "id": "c4c7e3aa",
   "metadata": {},
   "outputs": [
    {
     "name": "stdout",
     "output_type": "stream",
     "text": [
      "Confusion Matrix:\n",
      " [[108  17]\n",
      " [ 32  35]]\n",
      "*********************************************\n",
      "Accuracy Score: 0.7447916666666666\n",
      "*********************************************\n",
      "Classification report:\n",
      "               precision    recall  f1-score   support\n",
      "\n",
      "           0       0.77      0.86      0.82       125\n",
      "           1       0.67      0.52      0.59        67\n",
      "\n",
      "    accuracy                           0.74       192\n",
      "   macro avg       0.72      0.69      0.70       192\n",
      "weighted avg       0.74      0.74      0.74       192\n",
      "\n"
     ]
    }
   ],
   "source": [
    "# Testing data\n",
    "cnf_matrix = confusion_matrix(y_test, y_pred)\n",
    "print(\"Confusion Matrix:\\n\",cnf_matrix)\n",
    "\n",
    "print(\"*\"*45)\n",
    "accuracy = accuracy_score(y_test, y_pred)\n",
    "print(\"Accuracy Score:\",accuracy)\n",
    "print(\"*\"*45)\n",
    "\n",
    "clf_report = classification_report(y_test, y_pred)\n",
    "print(\"Classification report:\\n\",clf_report)"
   ]
  },
  {
   "cell_type": "code",
   "execution_count": 80,
   "id": "1242eaea",
   "metadata": {},
   "outputs": [
    {
     "name": "stdout",
     "output_type": "stream",
     "text": [
      "Confusion Matrix:\n",
      " [[331  44]\n",
      " [ 83 118]]\n",
      "*********************************************\n",
      "Accuracy Score: 0.7795138888888888\n",
      "*********************************************\n",
      "Classification report:\n",
      "               precision    recall  f1-score   support\n",
      "\n",
      "           0       0.80      0.88      0.84       375\n",
      "           1       0.73      0.59      0.65       201\n",
      "\n",
      "    accuracy                           0.78       576\n",
      "   macro avg       0.76      0.73      0.74       576\n",
      "weighted avg       0.77      0.78      0.77       576\n",
      "\n"
     ]
    }
   ],
   "source": [
    "# Training data\n",
    "\n",
    "# prediction\n",
    "y_pred_train = model.predict(x_train)\n",
    "\n",
    "cnf_matrix = confusion_matrix(y_train, y_pred_train)\n",
    "print(\"Confusion Matrix:\\n\",cnf_matrix)\n",
    "\n",
    "# Visualization\n",
    "\n",
    "print(\"*\"*45)\n",
    "accuracy = accuracy_score(y_train, y_pred_train)\n",
    "print(\"Accuracy Score:\",accuracy)\n",
    "print(\"*\"*45)\n",
    "\n",
    "clf_report = classification_report(y_train, y_pred_train)\n",
    "print(\"Classification report:\\n\",clf_report)"
   ]
  },
  {
   "cell_type": "markdown",
   "id": "48a88808",
   "metadata": {},
   "source": [
    "# AUC-ROC Curve"
   ]
  },
  {
   "cell_type": "code",
   "execution_count": 81,
   "id": "66ae41db",
   "metadata": {},
   "outputs": [
    {
     "data": {
      "text/plain": [
       "array([1.97694451, 0.97694451, 0.97413971, 0.9735452 , 0.93866261,\n",
       "       0.9366439 , 0.89576706, 0.89408888, 0.83245061, 0.82777815,\n",
       "       0.8258927 , 0.81153154, 0.80673859, 0.79324353, 0.7897249 ,\n",
       "       0.78582606, 0.76209303, 0.76131258, 0.74682238, 0.74602341,\n",
       "       0.73752151, 0.73034384, 0.71810559, 0.71063192, 0.71045872,\n",
       "       0.70675913, 0.67924689, 0.67579403, 0.6703113 , 0.66918114,\n",
       "       0.66201457, 0.66196371, 0.65400574, 0.64954642, 0.64222861,\n",
       "       0.64193411, 0.62878081, 0.62719521, 0.62506892, 0.62505866,\n",
       "       0.62111183, 0.61314542, 0.61275667, 0.60171828, 0.59887024,\n",
       "       0.5928542 , 0.57349917, 0.5636464 , 0.56152456, 0.56044794,\n",
       "       0.55082398, 0.54436608, 0.54431959, 0.54382782, 0.54325599,\n",
       "       0.54143885, 0.53790707, 0.53391162, 0.53018616, 0.52977061,\n",
       "       0.52228977, 0.52060002, 0.51606753, 0.51538945, 0.51444775,\n",
       "       0.51094531, 0.50686767, 0.50671554, 0.50309345, 0.50256824,\n",
       "       0.50004686, 0.4954095 , 0.49053131, 0.48997082, 0.48691789,\n",
       "       0.48124175, 0.48066975, 0.47439918, 0.46443773, 0.45993483,\n",
       "       0.45490561, 0.45426733, 0.45409884, 0.45100476, 0.44582614,\n",
       "       0.44393155, 0.43596113, 0.4260531 , 0.42507093, 0.41105152,\n",
       "       0.40695712, 0.40273646, 0.39771451, 0.39420705, 0.39083937,\n",
       "       0.39057311, 0.38870801, 0.38868119, 0.38746625, 0.38448637,\n",
       "       0.38199421, 0.38153133, 0.37735487, 0.37608818, 0.37195696,\n",
       "       0.37075338, 0.36419993, 0.36385623, 0.36378568, 0.35048096,\n",
       "       0.34834457, 0.34758911, 0.34749512, 0.32086349, 0.32055771,\n",
       "       0.31476313, 0.3139181 , 0.31259555, 0.31207559, 0.30582646,\n",
       "       0.30410263, 0.30175265, 0.29737886, 0.29312153, 0.28971809,\n",
       "       0.28966993, 0.28175137, 0.27937157, 0.27840878, 0.26804393,\n",
       "       0.26513984, 0.25847739, 0.25812617, 0.25292595, 0.25208456,\n",
       "       0.24849239, 0.24787371, 0.24668027, 0.24604236, 0.24166281,\n",
       "       0.24037857, 0.23782458, 0.23659766, 0.23317446, 0.2315911 ,\n",
       "       0.23024619, 0.22977308, 0.22822521, 0.22675298, 0.22527475,\n",
       "       0.22270484, 0.21636608, 0.2131814 , 0.20929641, 0.20458802,\n",
       "       0.20367161, 0.20332233, 0.19636171, 0.19520317, 0.19245641,\n",
       "       0.19230664, 0.18943242, 0.18658002, 0.16234038, 0.15904953,\n",
       "       0.15828306, 0.15761034, 0.15671434, 0.15624379, 0.15456138,\n",
       "       0.15340668, 0.15019113, 0.14968234, 0.14642944, 0.146242  ,\n",
       "       0.13683487, 0.1367784 , 0.12570588, 0.1254972 , 0.08880005,\n",
       "       0.08846275, 0.08825429, 0.08609391, 0.02153798, 0.02145632,\n",
       "       0.01836368, 0.01748065, 0.00298448])"
      ]
     },
     "execution_count": 81,
     "metadata": {},
     "output_type": "execute_result"
    }
   ],
   "source": [
    "# prediction probability\n",
    "y_pred_proba = model.predict_proba(x_train)\n",
    "y_pred_proba[:,1]  # We are getting class 1 probability\n",
    "\n",
    "fpr, tpr, thresh = roc_curve(y_train, y_pred_proba[:,1])\n",
    "thresh"
   ]
  },
  {
   "cell_type": "code",
   "execution_count": 82,
   "id": "8ef1d285",
   "metadata": {},
   "outputs": [
    {
     "data": {
      "text/plain": [
       "Text(0.5, 1.0, 'Reciever Operating Characteristics')"
      ]
     },
     "execution_count": 82,
     "metadata": {},
     "output_type": "execute_result"
    },
    {
     "data": {
      "image/png": "[encoded data removed]",
      "text/plain": [
       "<Figure size 432x288 with 1 Axes>"
      ]
     },
     "metadata": {
      "needs_background": "light"
     },
     "output_type": "display_data"
    }
   ],
   "source": [
    "# Plot AUC-ROC\n",
    "plt.plot(fpr,tpr)\n",
    "plt.xlabel(\"False Positive Rate -->\")\n",
    "plt.ylabel(\"True Positive Rate -->\")\n",
    "plt.title(\"Reciever Operating Characteristics\")"
   ]
  },
  {
   "cell_type": "code",
   "execution_count": 83,
   "id": "36363f44",
   "metadata": {},
   "outputs": [
    {
     "data": {
      "text/plain": [
       "0.5206000233198189"
      ]
     },
     "execution_count": 83,
     "metadata": {},
     "output_type": "execute_result"
    }
   ],
   "source": [
    "# prediction probability\n",
    "y_pred_proba = model.predict_proba(x_train)\n",
    "y_pred_proba[:,1]  # We are getting class 1 probability\n",
    "\n",
    "fpr, tpr, thresh = roc_curve(y_train, y_pred_proba[:,1])\n",
    "np.where(thresh >= 0.4999999)\n",
    "\n",
    "thresh[61]"
   ]
  },
  {
   "cell_type": "code",
   "execution_count": 86,
   "id": "bc86e06e",
   "metadata": {},
   "outputs": [
    {
     "data": {
      "text/plain": [
       "0.839004975124378"
      ]
     },
     "execution_count": 86,
     "metadata": {},
     "output_type": "execute_result"
    }
   ],
   "source": [
    "auc_value = auc(fpr, tpr)\n",
    "auc_value"
   ]
  },
  {
   "cell_type": "code",
   "execution_count": 87,
   "id": "28cacb16",
   "metadata": {},
   "outputs": [
    {
     "data": {
      "text/plain": [
       "7"
      ]
     },
     "execution_count": 87,
     "metadata": {},
     "output_type": "execute_result"
    }
   ],
   "source": [
    "column_names = x.columns\n",
    "len(column_names)"
   ]
  },
  {
   "cell_type": "code",
   "execution_count": 88,
   "id": "49ec830c",
   "metadata": {},
   "outputs": [
    {
     "data": {
      "text/plain": [
       "Index(['Glucose', 'BloodPressure', 'SkinThickness', 'Insulin', 'BMI',\n",
       "       'DiabetesPedigreeFunction', 'Age'],\n",
       "      dtype='object')"
      ]
     },
     "execution_count": 88,
     "metadata": {},
     "output_type": "execute_result"
    }
   ],
   "source": [
    "column_names"
   ]
  },
  {
   "cell_type": "code",
   "execution_count": 89,
   "id": "6468e433",
   "metadata": {},
   "outputs": [
    {
     "data": {
      "text/html": [
       "<div>\n",
       "<style scoped>\n",
       "    .dataframe tbody tr th:only-of-type {\n",
       "        vertical-align: middle;\n",
       "    }\n",
       "\n",
       "    .dataframe tbody tr th {\n",
       "        vertical-align: top;\n",
       "    }\n",
       "\n",
       "    .dataframe thead th {\n",
       "        text-align: right;\n",
       "    }\n",
       "</style>\n",
       "<table border=\"1\" class=\"dataframe\">\n",
       "  <thead>\n",
       "    <tr style=\"text-align: right;\">\n",
       "      <th></th>\n",
       "      <th>0</th>\n",
       "    </tr>\n",
       "  </thead>\n",
       "  <tbody>\n",
       "    <tr>\n",
       "      <th>Glucose</th>\n",
       "      <td>148.000</td>\n",
       "    </tr>\n",
       "    <tr>\n",
       "      <th>BloodPressure</th>\n",
       "      <td>50.000</td>\n",
       "    </tr>\n",
       "    <tr>\n",
       "      <th>SkinThickness</th>\n",
       "      <td>35.000</td>\n",
       "    </tr>\n",
       "    <tr>\n",
       "      <th>Insulin</th>\n",
       "      <td>0.000</td>\n",
       "    </tr>\n",
       "    <tr>\n",
       "      <th>BMI</th>\n",
       "      <td>33.600</td>\n",
       "    </tr>\n",
       "    <tr>\n",
       "      <th>DiabetesPedigreeFunction</th>\n",
       "      <td>0.627</td>\n",
       "    </tr>\n",
       "    <tr>\n",
       "      <th>Age</th>\n",
       "      <td>50.000</td>\n",
       "    </tr>\n",
       "  </tbody>\n",
       "</table>\n",
       "</div>"
      ],
      "text/plain": [
       "                                0\n",
       "Glucose                   148.000\n",
       "BloodPressure              50.000\n",
       "SkinThickness              35.000\n",
       "Insulin                     0.000\n",
       "BMI                        33.600\n",
       "DiabetesPedigreeFunction    0.627\n",
       "Age                        50.000"
      ]
     },
     "execution_count": 89,
     "metadata": {},
     "output_type": "execute_result"
    }
   ],
   "source": [
    "x.head(1).T"
   ]
  },
  {
   "cell_type": "code",
   "execution_count": 92,
   "id": "4dd77410",
   "metadata": {},
   "outputs": [],
   "source": [
    "Glucose = 148.000\n",
    "BloodPressure = 50.000\n",
    "SkinThickness = 35.000\n",
    "Insulin = 0.000\n",
    "BMI = 33.600\n",
    "DiabetesPedigreeFunction = 0.627\n",
    "Age = 50.000"
   ]
  },
  {
   "cell_type": "code",
   "execution_count": 93,
   "id": "4ca1f266",
   "metadata": {},
   "outputs": [
    {
     "data": {
      "text/plain": [
       "{'columns': ['Glucose',\n",
       "  'BloodPressure',\n",
       "  'SkinThickness',\n",
       "  'Insulin',\n",
       "  'BMI',\n",
       "  'DiabetesPedigreeFunction',\n",
       "  'Age']}"
      ]
     },
     "execution_count": 93,
     "metadata": {},
     "output_type": "execute_result"
    }
   ],
   "source": [
    "project_data = {\"columns\":list(column_names)}\n",
    "project_data"
   ]
  },
  {
   "cell_type": "code",
   "execution_count": 99,
   "id": "83d243d1",
   "metadata": {},
   "outputs": [],
   "source": [
    "array = np.zeros(x.shape[1])\n",
    "array[0] = Glucose\n",
    "array[1] = BloodPressure\n",
    "array[2] = SkinThickness\n",
    "array[3] = Insulin\n",
    "array[4] = BMI\n",
    "array[5] = DiabetesPedigreeFunction\n",
    "array[6] = Age\n"
   ]
  },
  {
   "cell_type": "code",
   "execution_count": 96,
   "id": "71016c6b",
   "metadata": {},
   "outputs": [
    {
     "data": {
      "text/plain": [
       "1"
      ]
     },
     "execution_count": 96,
     "metadata": {},
     "output_type": "execute_result"
    }
   ],
   "source": [
    "model.predict([array])[0]"
   ]
  },
  {
   "cell_type": "code",
   "execution_count": 97,
   "id": "ef7ae871",
   "metadata": {},
   "outputs": [],
   "source": [
    "import pickle\n",
    "\n",
    "with open(\"Linear_model.pkl\", \"wb\") as f:\n",
    "    pickle.dump(model, f)"
   ]
  },
  {
   "cell_type": "code",
   "execution_count": 98,
   "id": "d5634a73",
   "metadata": {},
   "outputs": [],
   "source": [
    "import json\n",
    "\n",
    "with open(\"project_data.json\", \"w\") as f:\n",
    "    json.dump(project_data, f)"
   ]
  },
  {
   "cell_type": "code",
   "execution_count": null,
   "id": "e4c5b039",
   "metadata": {},
   "outputs": [],
   "source": []
  }
 ],
 "metadata": {
  "kernelspec": {
   "display_name": "Python 3 (ipykernel)",
   "language": "python",
   "name": "python3"
  },
  "language_info": {
   "codemirror_mode": {
    "name": "ipython",
    "version": 3
   },
   "file_extension": ".py",
   "mimetype": "text/x-python",
   "name": "python",
   "nbconvert_exporter": "python",
   "pygments_lexer": "ipython3",
   "version": "3.9.12"
  }
 },
 "nbformat": 4,
 "nbformat_minor": 5
}
